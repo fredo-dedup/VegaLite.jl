{
 "cells": [
  {
   "cell_type": "markdown",
   "metadata": {},
   "source": [
    "# Altair examples"
   ]
  },
  {
   "cell_type": "code",
   "execution_count": 1,
   "metadata": {},
   "outputs": [],
   "source": [
    "using Revise"
   ]
  },
  {
   "cell_type": "code",
   "execution_count": 2,
   "metadata": {},
   "outputs": [],
   "source": [
    "using VegaDatasets, VegaLite, DataFrames"
   ]
  },
  {
   "cell_type": "markdown",
   "metadata": {},
   "source": [
    "## Bar Charts"
   ]
  },
  {
   "cell_type": "markdown",
   "metadata": {},
   "source": [
    "#### Bar Chart with Highlight"
   ]
  },
  {
   "cell_type": "markdown",
   "metadata": {},
   "source": [
    "```python\n",
    "import altair as alt\n",
    "import pandas as pd\n",
    "\n",
    "data = pd.DataFrame({\"Day\": range(1, 16),\n",
    "                     \"Value\": [54.8, 112.1, 63.6, 37.6, 79.7, 137.9, 120.1, 103.3,\n",
    "                               394.8, 199.5, 72.3, 51.1, 112.0, 174.5, 130.5]})\n",
    "\n",
    "data2 = pd.DataFrame([{\"ThresholdValue\": 300, \"Threshold\": \"hazardous\"}])\n",
    "\n",
    "bar1 = alt.Chart(data).mark_bar().encode(\n",
    "    x='Day:O',\n",
    "    y='Value:Q'\n",
    ")\n",
    "\n",
    "bar2 = alt.Chart(data).mark_bar(color=\"#e45755\").encode(\n",
    "    x='Day:O',\n",
    "    y='baseline:Q',\n",
    "    y2='Value:Q'\n",
    ").transform_filter(\n",
    "    \"datum.Value >= 300\"\n",
    ").transform_calculate(\n",
    "    \"baseline\", \"300\"\n",
    ")\n",
    "\n",
    "rule = alt.Chart(data2).mark_rule().encode(\n",
    "    y='ThresholdValue:Q'\n",
    ")\n",
    "\n",
    "text = alt.Chart(data2).mark_text(\n",
    "    align='left', dx=215, dy=-5\n",
    ").encode(\n",
    "    alt.Y('ThresholdValue:Q', axis=alt.Axis(title='PM2.5 Value')),\n",
    "    text=alt.value('hazardous')\n",
    ")\n",
    "\n",
    "bar1 + text + bar2 + rule\n",
    "```"
   ]
  },
  {
   "cell_type": "code",
   "execution_count": 3,
   "metadata": {},
   "outputs": [
    {
     "data": {
      "application/vnd.vegalite.v2+json": {
       "layer": [
        {
         "data": {
          "values": [
           {
            "Day": 1,
            "Value": 54.8
           },
           {
            "Day": 2,
            "Value": 112.1
           },
           {
            "Day": 3,
            "Value": 63.6
           },
           {
            "Day": 4,
            "Value": 37.6
           },
           {
            "Day": 5,
            "Value": 79.7
           },
           {
            "Day": 6,
            "Value": 137.9
           },
           {
            "Day": 7,
            "Value": 120.1
           },
           {
            "Day": 8,
            "Value": 103.3
           },
           {
            "Day": 9,
            "Value": 394.8
           },
           {
            "Day": 10,
            "Value": 199.5
           },
           {
            "Day": 11,
            "Value": 72.3
           },
           {
            "Day": 12,
            "Value": 51.1
           },
           {
            "Day": 13,
            "Value": 112
           },
           {
            "Day": 14,
            "Value": 174.5
           },
           {
            "Day": 15,
            "Value": 130.5
           }
          ]
         },
         "encoding": {
          "x": {
           "field": "Day",
           "type": "ordinal"
          },
          "y": {
           "field": "Value",
           "type": "quantitative"
          }
         },
         "mark": "bar"
        },
        {
         "data": {
          "values": [
           {
            "Day": 1,
            "Value": 54.8
           },
           {
            "Day": 2,
            "Value": 112.1
           },
           {
            "Day": 3,
            "Value": 63.6
           },
           {
            "Day": 4,
            "Value": 37.6
           },
           {
            "Day": 5,
            "Value": 79.7
           },
           {
            "Day": 6,
            "Value": 137.9
           },
           {
            "Day": 7,
            "Value": 120.1
           },
           {
            "Day": 8,
            "Value": 103.3
           },
           {
            "Day": 9,
            "Value": 394.8
           },
           {
            "Day": 10,
            "Value": 199.5
           },
           {
            "Day": 11,
            "Value": 72.3
           },
           {
            "Day": 12,
            "Value": 51.1
           },
           {
            "Day": 13,
            "Value": 112
           },
           {
            "Day": 14,
            "Value": 174.5
           },
           {
            "Day": 15,
            "Value": 130.5
           }
          ]
         },
         "encoding": {
          "x": {
           "field": "Day",
           "type": "ordinal"
          },
          "y": {
           "field": "baseline",
           "type": "quantitative"
          },
          "y2": {
           "field": "Value",
           "type": "quantitative"
          }
         },
         "mark": {
          "color": "#e45755",
          "type": "bar"
         },
         "transform": [
          {
           "filter": "datum.Value >= 300"
          },
          {
           "as": "baseline",
           "calculate": "300"
          }
         ]
        },
        {
         "data": {
          "values": [
           {
            "Threshold": "hazardous",
            "ThresholdValue": 300
           }
          ]
         },
         "encoding": {
          "y": {
           "field": "ThresholdValue",
           "type": "quantitative"
          }
         },
         "mark": "rule"
        },
        {
         "data": {
          "values": [
           {
            "Threshold": "hazardous",
            "ThresholdValue": 300
           }
          ]
         },
         "encoding": {
          "text": {
           "value": "hazardous"
          },
          "y": {
           "axis": {
            "title": "PM2.5 Value"
           },
           "field": "ThresholdValue",
           "type": "quantitative"
          }
         },
         "mark": {
          "align": "left",
          "dx": 215,
          "dy": -5,
          "type": "text"
         }
        }
       ]
      },
      "image/png": "[encoded data removed]",
      "image/svg+xml": [
       "<?xml version=\"1.0\" encoding=\"utf-8\"?>\n",
       "<!DOCTYPE svg PUBLIC \"-//W3C//DTD SVG 1.1//EN\" \"http://www.w3.org/Graphics/SVG/1.1/DTD/svg11.dtd\">\n",
       "<svg class=\"marks\" width=\"399\" height=\"257\" viewBox=\"0 0 399 257\" version=\"1.1\" xmlns=\"http://www.w3.org/2000/svg\" xmlns:xlink=\"http://www.w3.org/1999/xlink\"><g transform=\"translate(54,11)\"><g class=\"mark-group role-frame root\"><g transform=\"translate(0,0)\"><path class=\"background\" d=\"M0.5,0.5h315v200h-315Z\" style=\"fill: none; stroke: #ddd;\"></path><g><g class=\"mark-group role-axis\"><g transform=\"translate(0.5,0.5)\"><path class=\"background\" d=\"M0,0h0v0h0Z\" style=\"pointer-events: none; fill: none;\"></path><g><g class=\"mark-rule role-axis-grid\" style=\"pointer-events: none;\"><line transform=\"translate(0,200)\" x2=\"315\" y2=\"0\" style=\"fill: none; stroke: #ddd; stroke-width: 1; opacity: 1;\"></line><line transform=\"translate(0,150)\" x2=\"315\" y2=\"0\" style=\"fill: none; stroke: #ddd; stroke-width: 1; opacity: 1;\"></line><line transform=\"translate(0,100)\" x2=\"315\" y2=\"0\" style=\"fill: none; stroke: #ddd; stroke-width: 1; opacity: 1;\"></line><line transform=\"translate(0,50)\" x2=\"315\" y2=\"0\" style=\"fill: none; stroke: #ddd; stroke-width: 1; opacity: 1;\"></line><line transform=\"translate(0,0)\" x2=\"315\" y2=\"0\" style=\"fill: none; stroke: #ddd; stroke-width: 1; opacity: 1;\"></line></g></g></g></g><g class=\"mark-rect role-mark layer_0_marks\"><path d=\"M1.049999999999983,172.6h18.900000000000002v27.400000000000006h-18.900000000000002Z\" style=\"fill: #4c78a8;\"></path><path d=\"M22.049999999999983,143.95h18.900000000000002v56.05000000000001h-18.900000000000002Z\" style=\"fill: #4c78a8;\"></path><path d=\"M43.04999999999998,168.2h18.900000000000002v31.80000000000001h-18.900000000000002Z\" style=\"fill: #4c78a8;\"></path><path d=\"M64.04999999999998,181.2h18.900000000000002v18.80000000000001h-18.900000000000002Z\" style=\"fill: #4c78a8;\"></path><path d=\"M85.04999999999998,160.15h18.900000000000002v39.849999999999994h-18.900000000000002Z\" style=\"fill: #4c78a8;\"></path><path d=\"M106.04999999999998,131.05h18.900000000000002v68.94999999999999h-18.900000000000002Z\" style=\"fill: #4c78a8;\"></path><path d=\"M127.04999999999998,139.95000000000002h18.900000000000002v60.04999999999998h-18.900000000000002Z\" style=\"fill: #4c78a8;\"></path><path d=\"M148.04999999999998,148.35h18.900000000000002v51.650000000000006h-18.900000000000002Z\" style=\"fill: #4c78a8;\"></path><path d=\"M169.04999999999998,2.5999999999999943h18.900000000000002v197.4h-18.900000000000002Z\" style=\"fill: #4c78a8;\"></path><path d=\"M190.04999999999998,100.25h18.900000000000002v99.75h-18.900000000000002Z\" style=\"fill: #4c78a8;\"></path><path d=\"M211.04999999999998,163.85h18.900000000000002v36.150000000000006h-18.900000000000002Z\" style=\"fill: #4c78a8;\"></path><path d=\"M232.04999999999998,174.45h18.900000000000002v25.55000000000001h-18.900000000000002Z\" style=\"fill: #4c78a8;\"></path><path d=\"M253.04999999999998,144h18.900000000000002v56h-18.900000000000002Z\" style=\"fill: #4c78a8;\"></path><path d=\"M274.04999999999995,112.75h18.900000000000002v87.25h-18.900000000000002Z\" style=\"fill: #4c78a8;\"></path><path d=\"M295.04999999999995,134.75h18.900000000000002v65.25h-18.900000000000002Z\" style=\"fill: #4c78a8;\"></path></g><g class=\"mark-rect role-mark layer_1_marks\"><path d=\"M169.04999999999998,2.5999999999999943h18.900000000000002v47.400000000000006h-18.900000000000002Z\" style=\"fill: #e45755;\"></path></g><g class=\"mark-rule role-mark layer_2_marks\"><line transform=\"translate(0,50)\" x2=\"315\" y2=\"0\" style=\"fill: none; stroke: black;\"></line></g><g class=\"mark-text role-mark layer_3_marks\"><text text-anchor=\"start\" transform=\"translate(260,45)\" style=\"font: 11px sans-serif; fill: black;\">hazardous</text></g><g class=\"mark-group role-axis\"><g transform=\"translate(0.5,200.5)\"><path class=\"background\" d=\"M0,0h0v0h0Z\" style=\"pointer-events: none; fill: none;\"></path><g><g class=\"mark-rule role-axis-tick\" style=\"pointer-events: none;\"><line transform=\"translate(9,0)\" x2=\"0\" y2=\"5\" style=\"fill: none; stroke: #888; stroke-width: 1; opacity: 1;\"></line><line transform=\"translate(30,0)\" x2=\"0\" y2=\"5\" style=\"fill: none; stroke: #888; stroke-width: 1; opacity: 1;\"></line><line transform=\"translate(51,0)\" x2=\"0\" y2=\"5\" style=\"fill: none; stroke: #888; stroke-width: 1; opacity: 1;\"></line><line transform=\"translate(72,0)\" x2=\"0\" y2=\"5\" style=\"fill: none; stroke: #888; stroke-width: 1; opacity: 1;\"></line><line transform=\"translate(93,0)\" x2=\"0\" y2=\"5\" style=\"fill: none; stroke: #888; stroke-width: 1; opacity: 1;\"></line><line transform=\"translate(114,0)\" x2=\"0\" y2=\"5\" style=\"fill: none; stroke: #888; stroke-width: 1; opacity: 1;\"></line><line transform=\"translate(135,0)\" x2=\"0\" y2=\"5\" style=\"fill: none; stroke: #888; stroke-width: 1; opacity: 1;\"></line><line transform=\"translate(156,0)\" x2=\"0\" y2=\"5\" style=\"fill: none; stroke: #888; stroke-width: 1; opacity: 1;\"></line><line transform=\"translate(177,0)\" x2=\"0\" y2=\"5\" style=\"fill: none; stroke: #888; stroke-width: 1; opacity: 1;\"></line><line transform=\"translate(198,0)\" x2=\"0\" y2=\"5\" style=\"fill: none; stroke: #888; stroke-width: 1; opacity: 1;\"></line><line transform=\"translate(219,0)\" x2=\"0\" y2=\"5\" style=\"fill: none; stroke: #888; stroke-width: 1; opacity: 1;\"></line><line transform=\"translate(240,0)\" x2=\"0\" y2=\"5\" style=\"fill: none; stroke: #888; stroke-width: 1; opacity: 1;\"></line><line transform=\"translate(262,0)\" x2=\"0\" y2=\"5\" style=\"fill: none; stroke: #888; stroke-width: 1; opacity: 1;\"></line><line transform=\"translate(282,0)\" x2=\"0\" y2=\"5\" style=\"fill: none; stroke: #888; stroke-width: 1; opacity: 1;\"></line><line transform=\"translate(303,0)\" x2=\"0\" y2=\"5\" style=\"fill: none; stroke: #888; stroke-width: 1; opacity: 1;\"></line></g><g class=\"mark-text role-axis-label\" style=\"pointer-events: none;\"><text text-anchor=\"end\" transform=\"translate(9.499999999999984,7) rotate(270) translate(0,3)\" style=\"font: 10px sans-serif; fill: #000; opacity: 1;\">1</text><text text-anchor=\"end\" transform=\"translate(30.499999999999986,7) rotate(270) translate(0,3)\" style=\"font: 10px sans-serif; fill: #000; opacity: 1;\">2</text><text text-anchor=\"end\" transform=\"translate(51.499999999999986,7) rotate(270) translate(0,3)\" style=\"font: 10px sans-serif; fill: #000; opacity: 1;\">3</text><text text-anchor=\"end\" transform=\"translate(72.49999999999999,7) rotate(270) translate(0,3)\" style=\"font: 10px sans-serif; fill: #000; opacity: 1;\">4</text><text text-anchor=\"end\" transform=\"translate(93.49999999999999,7) rotate(270) translate(0,3)\" style=\"font: 10px sans-serif; fill: #000; opacity: 1;\">5</text><text text-anchor=\"end\" transform=\"translate(114.49999999999999,7) rotate(270) translate(0,3)\" style=\"font: 10px sans-serif; fill: #000; opacity: 1;\">6</text><text text-anchor=\"end\" transform=\"translate(135.49999999999997,7) rotate(270) translate(0,3)\" style=\"font: 10px sans-serif; fill: #000; opacity: 1;\">7</text><text text-anchor=\"end\" transform=\"translate(156.49999999999997,7) rotate(270) translate(0,3)\" style=\"font: 10px sans-serif; fill: #000; opacity: 1;\">8</text><text text-anchor=\"end\" transform=\"translate(177.49999999999997,7) rotate(270) translate(0,3)\" style=\"font: 10px sans-serif; fill: #000; opacity: 1;\">9</text><text text-anchor=\"end\" transform=\"translate(198.49999999999997,7) rotate(270) translate(0,3)\" style=\"font: 10px sans-serif; fill: #000; opacity: 1;\">10</text><text text-anchor=\"end\" transform=\"translate(219.49999999999997,7) rotate(270) translate(0,3)\" style=\"font: 10px sans-serif; fill: #000; opacity: 1;\">11</text><text text-anchor=\"end\" transform=\"translate(240.49999999999997,7) rotate(270) translate(0,3)\" style=\"font: 10px sans-serif; fill: #000; opacity: 1;\">12</text><text text-anchor=\"end\" transform=\"translate(261.5,7) rotate(270) translate(0,3)\" style=\"font: 10px sans-serif; fill: #000; opacity: 1;\">13</text><text text-anchor=\"end\" transform=\"translate(282.49999999999994,7) rotate(270) translate(0,3)\" style=\"font: 10px sans-serif; fill: #000; opacity: 1;\">14</text><text text-anchor=\"end\" transform=\"translate(303.49999999999994,7) rotate(270) translate(0,3)\" style=\"font: 10px sans-serif; fill: #000; opacity: 1;\">15</text></g><g class=\"mark-rule role-axis-domain\" style=\"pointer-events: none;\"><line transform=\"translate(0,0)\" x2=\"315\" y2=\"0\" style=\"fill: none; stroke: #888; stroke-width: 1; opacity: 1;\"></line></g><g class=\"mark-text role-axis-title\" style=\"pointer-events: none;\"><text text-anchor=\"middle\" transform=\"translate(157.5,37)\" style=\"font: bold 11px sans-serif; fill: #000; opacity: 1;\">Day</text></g></g></g></g><g class=\"mark-group role-axis\"><g transform=\"translate(0.5,0.5)\"><path class=\"background\" d=\"M0,0h0v0h0Z\" style=\"pointer-events: none; fill: none;\"></path><g><g class=\"mark-rule role-axis-tick\" style=\"pointer-events: none;\"><line transform=\"translate(0,200)\" x2=\"-5\" y2=\"0\" style=\"fill: none; stroke: #888; stroke-width: 1; opacity: 1;\"></line><line transform=\"translate(0,150)\" x2=\"-5\" y2=\"0\" style=\"fill: none; stroke: #888; stroke-width: 1; opacity: 1;\"></line><line transform=\"translate(0,100)\" x2=\"-5\" y2=\"0\" style=\"fill: none; stroke: #888; stroke-width: 1; opacity: 1;\"></line><line transform=\"translate(0,50)\" x2=\"-5\" y2=\"0\" style=\"fill: none; stroke: #888; stroke-width: 1; opacity: 1;\"></line><line transform=\"translate(0,0)\" x2=\"-5\" y2=\"0\" style=\"fill: none; stroke: #888; stroke-width: 1; opacity: 1;\"></line></g><g class=\"mark-text role-axis-label\" style=\"pointer-events: none;\"><text text-anchor=\"end\" transform=\"translate(-7,203)\" style=\"font: 10px sans-serif; fill: #000; opacity: 1;\">0</text><text text-anchor=\"end\" transform=\"translate(-7,153)\" style=\"font: 10px sans-serif; fill: #000; opacity: 1;\">100</text><text text-anchor=\"end\" transform=\"translate(-7,103)\" style=\"font: 10px sans-serif; fill: #000; opacity: 1;\">200</text><text text-anchor=\"end\" transform=\"translate(-7,53)\" style=\"font: 10px sans-serif; fill: #000; opacity: 1;\">300</text><text text-anchor=\"end\" transform=\"translate(-7,3)\" style=\"font: 10px sans-serif; fill: #000; opacity: 1;\">400</text></g><g class=\"mark-rule role-axis-domain\" style=\"pointer-events: none;\"><line transform=\"translate(0,200)\" x2=\"0\" y2=\"-200\" style=\"fill: none; stroke: #888; stroke-width: 1; opacity: 1;\"></line></g><g class=\"mark-text role-axis-title\" style=\"pointer-events: none;\"><text text-anchor=\"middle\" transform=\"translate(-36,100) rotate(-90) translate(0,-2)\" style=\"font: bold 11px sans-serif; fill: #000; opacity: 1;\">PM2.5 Value</text></g></g></g></g></g></g></g></g></svg>"
      ],
      "text/plain": [
       "VegaLite.VLSpec{:plot}(Dict{Symbol,Any}(Pair{Symbol,Any}(:layer, Any[Dict{Symbol,Any}(Pair{Symbol,Any}(:encoding, Dict{Symbol,Any}(Pair{Symbol,Any}(:y, Dict{Symbol,Any}(Pair{Symbol,Any}(:field, \"Value\"),Pair{Symbol,Any}(:type, :quantitative))),Pair{Symbol,Any}(:x, Dict{Symbol,Any}(Pair{Symbol,Any}(:field, \"Day\"),Pair{Symbol,Any}(:type, :ordinal))))),Pair{Symbol,Any}(:mark, :bar),Pair{Symbol,Any}(:data, Dict{Symbol,Any}(Pair{Symbol,Any}(:values, Dict{Symbol,Real}[Dict{Symbol,Real}(Pair{Symbol,Real}(:Value, 54.8),Pair{Symbol,Real}(:Day, 1)), Dict{Symbol,Real}(Pair{Symbol,Real}(:Value, 112.1),Pair{Symbol,Real}(:Day, 2)), Dict{Symbol,Real}(Pair{Symbol,Real}(:Value, 63.6),Pair{Symbol,Real}(:Day, 3)), Dict{Symbol,Real}(Pair{Symbol,Real}(:Value, 37.6),Pair{Symbol,Real}(:Day, 4)), Dict{Symbol,Real}(Pair{Symbol,Real}(:Value, 79.7),Pair{Symbol,Real}(:Day, 5)), Dict{Symbol,Real}(Pair{Symbol,Real}(:Value, 137.9),Pair{Symbol,Real}(:Day, 6)), Dict{Symbol,Real}(Pair{Symbol,Real}(:Value, 120.1),Pair{Symbol,Real}(:Day, 7)), Dict{Symbol,Real}(Pair{Symbol,Real}(:Value, 103.3),Pair{Symbol,Real}(:Day, 8)), Dict{Symbol,Real}(Pair{Symbol,Real}(:Value, 394.8),Pair{Symbol,Real}(:Day, 9)), Dict{Symbol,Real}(Pair{Symbol,Real}(:Value, 199.5),Pair{Symbol,Real}(:Day, 10)), Dict{Symbol,Real}(Pair{Symbol,Real}(:Value, 72.3),Pair{Symbol,Real}(:Day, 11)), Dict{Symbol,Real}(Pair{Symbol,Real}(:Value, 51.1),Pair{Symbol,Real}(:Day, 12)), Dict{Symbol,Real}(Pair{Symbol,Real}(:Value, 112.0),Pair{Symbol,Real}(:Day, 13)), Dict{Symbol,Real}(Pair{Symbol,Real}(:Value, 174.5),Pair{Symbol,Real}(:Day, 14)), Dict{Symbol,Real}(Pair{Symbol,Real}(:Value, 130.5),Pair{Symbol,Real}(:Day, 15))])))), Dict{Symbol,Any}(Pair{Symbol,Any}(:encoding, Dict{Symbol,Any}(Pair{Symbol,Any}(:y, Dict{Symbol,Any}(Pair{Symbol,Any}(:field, \"baseline\"),Pair{Symbol,Any}(:type, :quantitative))),Pair{Symbol,Any}(:y2, Dict{Symbol,Any}(Pair{Symbol,Any}(:field, \"Value\"),Pair{Symbol,Any}(:type, :quantitative))),Pair{Symbol,Any}(:x, Dict{Symbol,Any}(Pair{Symbol,Any}(:field, \"Day\"),Pair{Symbol,Any}(:type, :ordinal))))),Pair{Symbol,Any}(:mark, Dict{Symbol,Any}(Pair{Symbol,Any}(:color, \"#e45755\"),Pair{Symbol,Any}(:type, :bar))),Pair{Symbol,Any}(:data, Dict{Symbol,Any}(Pair{Symbol,Any}(:values, Dict{Symbol,Real}[Dict{Symbol,Real}(Pair{Symbol,Real}(:Value, 54.8),Pair{Symbol,Real}(:Day, 1)), Dict{Symbol,Real}(Pair{Symbol,Real}(:Value, 112.1),Pair{Symbol,Real}(:Day, 2)), Dict{Symbol,Real}(Pair{Symbol,Real}(:Value, 63.6),Pair{Symbol,Real}(:Day, 3)), Dict{Symbol,Real}(Pair{Symbol,Real}(:Value, 37.6),Pair{Symbol,Real}(:Day, 4)), Dict{Symbol,Real}(Pair{Symbol,Real}(:Value, 79.7),Pair{Symbol,Real}(:Day, 5)), Dict{Symbol,Real}(Pair{Symbol,Real}(:Value, 137.9),Pair{Symbol,Real}(:Day, 6)), Dict{Symbol,Real}(Pair{Symbol,Real}(:Value, 120.1),Pair{Symbol,Real}(:Day, 7)), Dict{Symbol,Real}(Pair{Symbol,Real}(:Value, 103.3),Pair{Symbol,Real}(:Day, 8)), Dict{Symbol,Real}(Pair{Symbol,Real}(:Value, 394.8),Pair{Symbol,Real}(:Day, 9)), Dict{Symbol,Real}(Pair{Symbol,Real}(:Value, 199.5),Pair{Symbol,Real}(:Day, 10)), Dict{Symbol,Real}(Pair{Symbol,Real}(:Value, 72.3),Pair{Symbol,Real}(:Day, 11)), Dict{Symbol,Real}(Pair{Symbol,Real}(:Value, 51.1),Pair{Symbol,Real}(:Day, 12)), Dict{Symbol,Real}(Pair{Symbol,Real}(:Value, 112.0),Pair{Symbol,Real}(:Day, 13)), Dict{Symbol,Real}(Pair{Symbol,Real}(:Value, 174.5),Pair{Symbol,Real}(:Day, 14)), Dict{Symbol,Real}(Pair{Symbol,Real}(:Value, 130.5),Pair{Symbol,Real}(:Day, 15))]))),Pair{Symbol,Any}(:transform, Dict{Symbol,Any}[Dict{Symbol,Any}(Pair{Symbol,Any}(:filter, \"datum.Value >= 300\")), Dict{Symbol,Any}(Pair{Symbol,Any}(:calculate, \"300\"),Pair{Symbol,Any}(:as, :baseline))])), Dict{Symbol,Any}(Pair{Symbol,Any}(:encoding, Dict{Symbol,Any}(Pair{Symbol,Any}(:y, Dict{Symbol,Any}(Pair{Symbol,Any}(:field, \"ThresholdValue\"),Pair{Symbol,Any}(:type, :quantitative))))),Pair{Symbol,Any}(:mark, :rule),Pair{Symbol,Any}(:data, Dict{Symbol,Any}(Pair{Symbol,Any}(:values, Dict{Symbol,Any}[Dict{Symbol,Any}(Pair{Symbol,Any}(:Threshold, \"hazardous\"),Pair{Symbol,Any}(:ThresholdValue, 300))])))), Dict{Symbol,Any}(Pair{Symbol,Any}(:encoding, Dict{Symbol,Any}(Pair{Symbol,Any}(:y, Dict{Symbol,Any}(Pair{Symbol,Any}(:field, \"ThresholdValue\"),Pair{Symbol,Any}(:type, :quantitative),Pair{Symbol,Any}(:axis, Dict{Symbol,Any}(Pair{Symbol,Any}(:title, \"PM2.5 Value\"))))),Pair{Symbol,Any}(:text, Dict{Symbol,Any}(Pair{Symbol,Any}(:value, \"hazardous\"))))),Pair{Symbol,Any}(:mark, Dict{Symbol,Any}(Pair{Symbol,Any}(:type, :text),Pair{Symbol,Any}(:dx, 215),Pair{Symbol,Any}(:align, :left),Pair{Symbol,Any}(:dy, -5))),Pair{Symbol,Any}(:data, Dict{Symbol,Any}(Pair{Symbol,Any}(:values, Dict{Symbol,Any}[Dict{Symbol,Any}(Pair{Symbol,Any}(:Threshold, \"hazardous\"),Pair{Symbol,Any}(:ThresholdValue, 300))]))))])))"
      ]
     },
     "execution_count": 3,
     "metadata": {},
     "output_type": "execute_result"
    }
   ],
   "source": [
    "data = DataFrame(Day=1:15,\n",
    "    Value=[54.8, 112.1, 63.6, 37.6, 79.7, 137.9, 120.1, 103.3,394.8, 199.5, 72.3, 51.1, 112.0, 174.5, 130.5])\n",
    "\n",
    "data2 = DataFrame(ThresholdValue=300,Threshold=\"hazardous\")\n",
    "\n",
    "@vlplot() +\n",
    "@vlplot(:bar,data=data,enc={x=\"Day:o\",y=\"Value:q\"}) +\n",
    "@vlplot(\n",
    "    data=data,\n",
    "    transform=[\n",
    "        {filter=\"datum.Value >= 300\"},\n",
    "        {calculate=\"300\",as=:baseline}\n",
    "    ],\n",
    "    mark={:bar,color=\"#e45755\"},\n",
    "    enc={x=\"Day:o\",y=\"baseline:q\",y2=\"Value:q\"}) +\n",
    "@vlplot(:rule,data=data2,enc={y=\"ThresholdValue:q\"}) +\n",
    "@vlplot(\n",
    "    data=data2,\n",
    "    mark={:text,align=:left,dx=215,dy=-5},\n",
    "    enc={\n",
    "        y={\"ThresholdValue:q\",axis={title=\"PM2.5 Value\"}},\n",
    "        text={value=\"hazardous\"}\n",
    "    })"
   ]
  },
  {
   "cell_type": "markdown",
   "metadata": {},
   "source": [
    "#### Box Plot with Min/Max Whiskers"
   ]
  },
  {
   "cell_type": "markdown",
   "metadata": {},
   "source": [
    "```python\n",
    "import altair as alt\n",
    "from vega_datasets import data\n",
    "\n",
    "population = data.population.url\n",
    "\n",
    "# Define aggregate fields\n",
    "lower_box = 'q1(people):Q'\n",
    "lower_whisker = 'min(people):Q'\n",
    "upper_box = 'q3(people):Q'\n",
    "upper_whisker = 'max(people):Q'\n",
    "\n",
    "# Compose each layer individually\n",
    "lower_plot = alt.Chart(population).mark_rule().encode(\n",
    "    y=alt.Y(lower_whisker, axis=alt.Axis(title=\"population\")),\n",
    "    y2=lower_box,\n",
    "    x='age:O'\n",
    ")\n",
    "\n",
    "middle_plot = alt.Chart(population).mark_bar(size=5.0).encode(\n",
    "    y=lower_box,\n",
    "    y2=upper_box,\n",
    "    x='age:O'\n",
    ")\n",
    "\n",
    "upper_plot = alt.Chart(population).mark_rule().encode(\n",
    "    y=upper_whisker,\n",
    "    y2=upper_box,\n",
    "    x='age:O'\n",
    ")\n",
    "\n",
    "middle_tick = alt.Chart(population).mark_tick(\n",
    "    color='white',\n",
    "    size=5.0\n",
    ").encode(\n",
    "    y='median(people):Q',\n",
    "    x='age:O',\n",
    ")\n",
    "\n",
    "lower_plot + middle_plot + upper_plot + middle_tick\n",
    "```"
   ]
  },
  {
   "cell_type": "code",
   "execution_count": 4,
   "metadata": {},
   "outputs": [
    {
     "data": {
      "application/vnd.vegalite.v2+json": {
       "data": {
        "values": [
         {
          "age": 0,
          "people": 1483789,
          "sex": 1,
          "year": 1850
         },
         {
          "age": 0,
          "people": 1450376,
          "sex": 2,
          "year": 1850
         },
         {
          "age": 5,
          "people": 1411067,
          "sex": 1,
          "year": 1850
         },
         {
          "age": 5,
          "people": 1359668,
          "sex": 2,
          "year": 1850
         },
         {
          "age": 10,
          "people": 1260099,
          "sex": 1,
          "year": 1850
         },
         {
          "age": 10,
          "people": 1216114,
          "sex": 2,
          "year": 1850
         },
         {
          "age": 15,
          "people": 1077133,
          "sex": 1,
          "year": 1850
         },
         {
          "age": 15,
          "people": 1110619,
          "sex": 2,
          "year": 1850
         },
         {
          "age": 20,
          "people": 1017281,
          "sex": 1,
          "year": 1850
         },
         {
          "age": 20,
          "people": 1003841,
          "sex": 2,
          "year": 1850
         },
         {
          "age": 25,
          "people": 862547,
          "sex": 1,
          "year": 1850
         },
         {
          "age": 25,
          "people": 799482,
          "sex": 2,
          "year": 1850
         },
         {
          "age": 30,
          "people": 730638,
          "sex": 1,
          "year": 1850
         },
         {
          "age": 30,
          "people": 639636,
          "sex": 2,
          "year": 1850
         },
         {
          "age": 35,
          "people": 588487,
          "sex": 1,
          "year": 1850
         },
         {
          "age": 35,
          "people": 505012,
          "sex": 2,
          "year": 1850
         },
         {
          "age": 40,
          "people": 475911,
          "sex": 1,
          "year": 1850
         },
         {
          "age": 40,
          "people": 428185,
          "sex": 2,
          "year": 1850
         },
         {
          "age": 45,
          "people": 384211,
          "sex": 1,
          "year": 1850
         },
         {
          "age": 45,
          "people": 341254,
          "sex": 2,
          "year": 1850
         },
         {
          "age": 50,
          "people": 321343,
          "sex": 1,
          "year": 1850
         },
         {
          "age": 50,
          "people": 286580,
          "sex": 2,
          "year": 1850
         },
         {
          "age": 55,
          "people": 194080,
          "sex": 1,
          "year": 1850
         },
         {
          "age": 55,
          "people": 187208,
          "sex": 2,
          "year": 1850
         },
         {
          "age": 60,
          "people": 174976,
          "sex": 1,
          "year": 1850
         },
         {
          "age": 60,
          "people": 162236,
          "sex": 2,
          "year": 1850
         },
         {
          "age": 65,
          "people": 106827,
          "sex": 1,
          "year": 1850
         },
         {
          "age": 65,
          "people": 105534,
          "sex": 2,
          "year": 1850
         },
         {
          "age": 70,
          "people": 73677,
          "sex": 1,
          "year": 1850
         },
         {
          "age": 70,
          "people": 71762,
          "sex": 2,
          "year": 1850
         },
         {
          "age": 75,
          "people": 40834,
          "sex": 1,
          "year": 1850
         },
         {
          "age": 75,
          "people": 40229,
          "sex": 2,
          "year": 1850
         },
         {
          "age": 80,
          "people": 23449,
          "sex": 1,
          "year": 1850
         },
         {
          "age": 80,
          "people": 22949,
          "sex": 2,
          "year": 1850
         },
         {
          "age": 85,
          "people": 8186,
          "sex": 1,
          "year": 1850
         },
         {
          "age": 85,
          "people": 10511,
          "sex": 2,
          "year": 1850
         },
         {
          "age": 90,
          "people": 5259,
          "sex": 1,
          "year": 1850
         },
         {
          "age": 90,
          "people": 6569,
          "sex": 2,
          "year": 1850
         },
         {
          "age": 0,
          "people": 2120846,
          "sex": 1,
          "year": 1860
         },
         {
          "age": 0,
          "people": 2092162,
          "sex": 2,
          "year": 1860
         },
         {
          "age": 5,
          "people": 1804467,
          "sex": 1,
          "year": 1860
         },
         {
          "age": 5,
          "people": 1778772,
          "sex": 2,
          "year": 1860
         },
         {
          "age": 10,
          "people": 1612640,
          "sex": 1,
          "year": 1860
         },
         {
          "age": 10,
          "people": 1540350,
          "sex": 2,
          "year": 1860
         },
         {
          "age": 15,
          "people": 1438094,
          "sex": 1,
          "year": 1860
         },
         {
          "age": 15,
          "people": 1495999,
          "sex": 2,
          "year": 1860
         },
         {
          "age": 20,
          "people": 1351121,
          "sex": 1,
          "year": 1860
         },
         {
          "age": 20,
          "people": 1370462,
          "sex": 2,
          "year": 1860
         },
         {
          "age": 25,
          "people": 1217615,
          "sex": 1,
          "year": 1860
         },
         {
          "age": 25,
          "people": 1116373,
          "sex": 2,
          "year": 1860
         },
         {
          "age": 30,
          "people": 1043174,
          "sex": 1,
          "year": 1860
         },
         {
          "age": 30,
          "people": 936055,
          "sex": 2,
          "year": 1860
         },
         {
          "age": 35,
          "people": 866910,
          "sex": 1,
          "year": 1860
         },
         {
          "age": 35,
          "people": 737136,
          "sex": 2,
          "year": 1860
         },
         {
          "age": 40,
          "people": 699434,
          "sex": 1,
          "year": 1860
         },
         {
          "age": 40,
          "people": 616826,
          "sex": 2,
          "year": 1860
         },
         {
          "age": 45,
          "people": 552404,
          "sex": 1,
          "year": 1860
         },
         {
          "age": 45,
          "people": 461739,
          "sex": 2,
          "year": 1860
         },
         {
          "age": 50,
          "people": 456176,
          "sex": 1,
          "year": 1860
         },
         {
          "age": 50,
          "people": 407305,
          "sex": 2,
          "year": 1860
         },
         {
          "age": 55,
          "people": 292417,
          "sex": 1,
          "year": 1860
         },
         {
          "age": 55,
          "people": 267224,
          "sex": 2,
          "year": 1860
         },
         {
          "age": 60,
          "people": 260887,
          "sex": 1,
          "year": 1860
         },
         {
          "age": 60,
          "people": 249735,
          "sex": 2,
          "year": 1860
         },
         {
          "age": 65,
          "people": 149331,
          "sex": 1,
          "year": 1860
         },
         {
          "age": 65,
          "people": 141405,
          "sex": 2,
          "year": 1860
         },
         {
          "age": 70,
          "people": 98465,
          "sex": 1,
          "year": 1860
         },
         {
          "age": 70,
          "people": 101778,
          "sex": 2,
          "year": 1860
         },
         {
          "age": 75,
          "people": 56699,
          "sex": 1,
          "year": 1860
         },
         {
          "age": 75,
          "people": 57597,
          "sex": 2,
          "year": 1860
         },
         {
          "age": 80,
          "people": 29007,
          "sex": 1,
          "year": 1860
         },
         {
          "age": 80,
          "people": 29506,
          "sex": 2,
          "year": 1860
         },
         {
          "age": 85,
          "people": 10434,
          "sex": 1,
          "year": 1860
         },
         {
          "age": 85,
          "people": 14053,
          "sex": 2,
          "year": 1860
         },
         {
          "age": 90,
          "people": 7232,
          "sex": 1,
          "year": 1860
         },
         {
          "age": 90,
          "people": 6622,
          "sex": 2,
          "year": 1860
         },
         {
          "age": 0,
          "people": 2800083,
          "sex": 1,
          "year": 1870
         },
         {
          "age": 0,
          "people": 2717102,
          "sex": 2,
          "year": 1870
         },
         {
          "age": 5,
          "people": 2428469,
          "sex": 1,
          "year": 1870
         },
         {
          "age": 5,
          "people": 2393680,
          "sex": 2,
          "year": 1870
         },
         {
          "age": 10,
          "people": 2427341,
          "sex": 1,
          "year": 1870
         },
         {
          "age": 10,
          "people": 2342670,
          "sex": 2,
          "year": 1870
         },
         {
          "age": 15,
          "people": 1958390,
          "sex": 1,
          "year": 1870
         },
         {
          "age": 15,
          "people": 2077248,
          "sex": 2,
          "year": 1870
         },
         {
          "age": 20,
          "people": 1805303,
          "sex": 1,
          "year": 1870
         },
         {
          "age": 20,
          "people": 1909382,
          "sex": 2,
          "year": 1870
         },
         {
          "age": 25,
          "people": 1509059,
          "sex": 1,
          "year": 1870
         },
         {
          "age": 25,
          "people": 1574285,
          "sex": 2,
          "year": 1870
         },
         {
          "age": 30,
          "people": 1251534,
          "sex": 1,
          "year": 1870
         },
         {
          "age": 30,
          "people": 1275629,
          "sex": 2,
          "year": 1870
         },
         {
          "age": 35,
          "people": 1185336,
          "sex": 1,
          "year": 1870
         },
         {
          "age": 35,
          "people": 1137490,
          "sex": 2,
          "year": 1870
         },
         {
          "age": 40,
          "people": 968861,
          "sex": 1,
          "year": 1870
         },
         {
          "age": 40,
          "people": 944401,
          "sex": 2,
          "year": 1870
         },
         {
          "age": 45,
          "people": 852672,
          "sex": 1,
          "year": 1870
         },
         {
          "age": 45,
          "people": 747916,
          "sex": 2,
          "year": 1870
         },
         {
          "age": 50,
          "people": 736387,
          "sex": 1,
          "year": 1870
         },
         {
          "age": 50,
          "people": 637801,
          "sex": 2,
          "year": 1870
         },
         {
          "age": 55,
          "people": 486036,
          "sex": 1,
          "year": 1870
         },
         {
          "age": 55,
          "people": 407819,
          "sex": 2,
          "year": 1870
         },
         {
          "age": 60,
          "people": 399264,
          "sex": 1,
          "year": 1870
         },
         {
          "age": 60,
          "people": 374801,
          "sex": 2,
          "year": 1870
         },
         {
          "age": 65,
          "people": 260829,
          "sex": 1,
          "year": 1870
         },
         {
          "age": 65,
          "people": 239080,
          "sex": 2,
          "year": 1870
         },
         {
          "age": 70,
          "people": 173364,
          "sex": 1,
          "year": 1870
         },
         {
          "age": 70,
          "people": 165501,
          "sex": 2,
          "year": 1870
         },
         {
          "age": 75,
          "people": 86929,
          "sex": 1,
          "year": 1870
         },
         {
          "age": 75,
          "people": 89540,
          "sex": 2,
          "year": 1870
         },
         {
          "age": 80,
          "people": 47427,
          "sex": 1,
          "year": 1870
         },
         {
          "age": 80,
          "people": 54190,
          "sex": 2,
          "year": 1870
         },
         {
          "age": 85,
          "people": 15891,
          "sex": 1,
          "year": 1870
         },
         {
          "age": 85,
          "people": 19302,
          "sex": 2,
          "year": 1870
         },
         {
          "age": 90,
          "people": 8649,
          "sex": 1,
          "year": 1870
         },
         {
          "age": 90,
          "people": 13068,
          "sex": 2,
          "year": 1870
         },
         {
          "age": 0,
          "people": 3533662,
          "sex": 1,
          "year": 1880
         },
         {
          "age": 0,
          "people": 3421597,
          "sex": 2,
          "year": 1880
         },
         {
          "age": 5,
          "people": 3297503,
          "sex": 1,
          "year": 1880
         },
         {
          "age": 5,
          "people": 3179142,
          "sex": 2,
          "year": 1880
         },
         {
          "age": 10,
          "people": 2911924,
          "sex": 1,
          "year": 1880
         },
         {
          "age": 10,
          "people": 2813550,
          "sex": 2,
          "year": 1880
         },
         {
          "age": 15,
          "people": 2457734,
          "sex": 1,
          "year": 1880
         },
         {
          "age": 15,
          "people": 2527818,
          "sex": 2,
          "year": 1880
         },
         {
          "age": 20,
          "people": 2547780,
          "sex": 1,
          "year": 1880
         },
         {
          "age": 20,
          "people": 2512803,
          "sex": 2,
          "year": 1880
         },
         {
          "age": 25,
          "people": 2119393,
          "sex": 1,
          "year": 1880
         },
         {
          "age": 25,
          "people": 1974241,
          "sex": 2,
          "year": 1880
         },
         {
          "age": 30,
          "people": 1749107,
          "sex": 1,
          "year": 1880
         },
         {
          "age": 30,
          "people": 1596772,
          "sex": 2,
          "year": 1880
         },
         {
          "age": 35,
          "people": 1540772,
          "sex": 1,
          "year": 1880
         },
         {
          "age": 35,
          "people": 1483717,
          "sex": 2,
          "year": 1880
         },
         {
          "age": 40,
          "people": 1237347,
          "sex": 1,
          "year": 1880
         },
         {
          "age": 40,
          "people": 1239435,
          "sex": 2,
          "year": 1880
         },
         {
          "age": 45,
          "people": 1065973,
          "sex": 1,
          "year": 1880
         },
         {
          "age": 45,
          "people": 1003711,
          "sex": 2,
          "year": 1880
         },
         {
          "age": 50,
          "people": 964484,
          "sex": 1,
          "year": 1880
         },
         {
          "age": 50,
          "people": 863012,
          "sex": 2,
          "year": 1880
         },
         {
          "age": 55,
          "people": 679147,
          "sex": 1,
          "year": 1880
         },
         {
          "age": 55,
          "people": 594843,
          "sex": 2,
          "year": 1880
         },
         {
          "age": 60,
          "people": 580298,
          "sex": 1,
          "year": 1880
         },
         {
          "age": 60,
          "people": 526956,
          "sex": 2,
          "year": 1880
         },
         {
          "age": 65,
          "people": 369398,
          "sex": 1,
          "year": 1880
         },
         {
          "age": 65,
          "people": 346303,
          "sex": 2,
          "year": 1880
         },
         {
          "age": 70,
          "people": 255422,
          "sex": 1,
          "year": 1880
         },
         {
          "age": 70,
          "people": 251860,
          "sex": 2,
          "year": 1880
         },
         {
          "age": 75,
          "people": 141628,
          "sex": 1,
          "year": 1880
         },
         {
          "age": 75,
          "people": 143513,
          "sex": 2,
          "year": 1880
         },
         {
          "age": 80,
          "people": 67526,
          "sex": 1,
          "year": 1880
         },
         {
          "age": 80,
          "people": 77290,
          "sex": 2,
          "year": 1880
         },
         {
          "age": 85,
          "people": 22437,
          "sex": 1,
          "year": 1880
         },
         {
          "age": 85,
          "people": 31227,
          "sex": 2,
          "year": 1880
         },
         {
          "age": 90,
          "people": 10272,
          "sex": 1,
          "year": 1880
         },
         {
          "age": 90,
          "people": 15451,
          "sex": 2,
          "year": 1880
         },
         {
          "age": 0,
          "people": 4619544,
          "sex": 1,
          "year": 1900
         },
         {
          "age": 0,
          "people": 4589196,
          "sex": 2,
          "year": 1900
         },
         {
          "age": 5,
          "people": 4465783,
          "sex": 1,
          "year": 1900
         },
         {
          "age": 5,
          "people": 4390483,
          "sex": 2,
          "year": 1900
         },
         {
          "age": 10,
          "people": 4057669,
          "sex": 1,
          "year": 1900
         },
         {
          "age": 10,
          "people": 4001749,
          "sex": 2,
          "year": 1900
         },
         {
          "age": 15,
          "people": 3774846,
          "sex": 1,
          "year": 1900
         },
         {
          "age": 15,
          "people": 3801743,
          "sex": 2,
          "year": 1900
         },
         {
          "age": 20,
          "people": 3694038,
          "sex": 1,
          "year": 1900
         },
         {
          "age": 20,
          "people": 3751061,
          "sex": 2,
          "year": 1900
         },
         {
          "age": 25,
          "people": 3389280,
          "sex": 1,
          "year": 1900
         },
         {
          "age": 25,
          "people": 3236056,
          "sex": 2,
          "year": 1900
         },
         {
          "age": 30,
          "people": 2918964,
          "sex": 1,
          "year": 1900
         },
         {
          "age": 30,
          "people": 2665174,
          "sex": 2,
          "year": 1900
         },
         {
          "age": 35,
          "people": 2633883,
          "sex": 1,
          "year": 1900
         },
         {
          "age": 35,
          "people": 2347737,
          "sex": 2,
          "year": 1900
         },
         {
          "age": 40,
          "people": 2261070,
          "sex": 1,
          "year": 1900
         },
         {
          "age": 40,
          "people": 2004987,
          "sex": 2,
          "year": 1900
         },
         {
          "age": 45,
          "people": 1868413,
          "sex": 1,
          "year": 1900
         },
         {
          "age": 45,
          "people": 1648025,
          "sex": 2,
          "year": 1900
         },
         {
          "age": 50,
          "people": 1571038,
          "sex": 1,
          "year": 1900
         },
         {
          "age": 50,
          "people": 1411981,
          "sex": 2,
          "year": 1900
         },
         {
          "age": 55,
          "people": 1161908,
          "sex": 1,
          "year": 1900
         },
         {
          "age": 55,
          "people": 1064632,
          "sex": 2,
          "year": 1900
         },
         {
          "age": 60,
          "people": 916571,
          "sex": 1,
          "year": 1900
         },
         {
          "age": 60,
          "people": 887508,
          "sex": 2,
          "year": 1900
         },
         {
          "age": 65,
          "people": 672663,
          "sex": 1,
          "year": 1900
         },
         {
          "age": 65,
          "people": 640212,
          "sex": 2,
          "year": 1900
         },
         {
          "age": 70,
          "people": 454747,
          "sex": 1,
          "year": 1900
         },
         {
          "age": 70,
          "people": 440007,
          "sex": 2,
          "year": 1900
         },
         {
          "age": 75,
          "people": 268211,
          "sex": 1,
          "year": 1900
         },
         {
          "age": 75,
          "people": 265879,
          "sex": 2,
          "year": 1900
         },
         {
          "age": 80,
          "people": 127435,
          "sex": 1,
          "year": 1900
         },
         {
          "age": 80,
          "people": 132449,
          "sex": 2,
          "year": 1900
         },
         {
          "age": 85,
          "people": 44008,
          "sex": 1,
          "year": 1900
         },
         {
          "age": 85,
          "people": 48614,
          "sex": 2,
          "year": 1900
         },
         {
          "age": 90,
          "people": 15164,
          "sex": 1,
          "year": 1900
         },
         {
          "age": 90,
          "people": 20093,
          "sex": 2,
          "year": 1900
         },
         {
          "age": 0,
          "people": 5296823,
          "sex": 1,
          "year": 1910
         },
         {
          "age": 0,
          "people": 5287477,
          "sex": 2,
          "year": 1910
         },
         {
          "age": 5,
          "people": 4991803,
          "sex": 1,
          "year": 1910
         },
         {
          "age": 5,
          "people": 4866139,
          "sex": 2,
          "year": 1910
         },
         {
          "age": 10,
          "people": 4650747,
          "sex": 1,
          "year": 1910
         },
         {
          "age": 10,
          "people": 4471887,
          "sex": 2,
          "year": 1910
         },
         {
          "age": 15,
          "people": 4566154,
          "sex": 1,
          "year": 1910
         },
         {
          "age": 15,
          "people": 4592269,
          "sex": 2,
          "year": 1910
         },
         {
          "age": 20,
          "people": 4637632,
          "sex": 1,
          "year": 1910
         },
         {
          "age": 20,
          "people": 4447683,
          "sex": 2,
          "year": 1910
         },
         {
          "age": 25,
          "people": 4257755,
          "sex": 1,
          "year": 1910
         },
         {
          "age": 25,
          "people": 3946153,
          "sex": 2,
          "year": 1910
         },
         {
          "age": 30,
          "people": 3658125,
          "sex": 1,
          "year": 1910
         },
         {
          "age": 30,
          "people": 3295220,
          "sex": 2,
          "year": 1910
         },
         {
          "age": 35,
          "people": 3427518,
          "sex": 1,
          "year": 1910
         },
         {
          "age": 35,
          "people": 3088990,
          "sex": 2,
          "year": 1910
         },
         {
          "age": 40,
          "people": 2860229,
          "sex": 1,
          "year": 1910
         },
         {
          "age": 40,
          "people": 2471267,
          "sex": 2,
          "year": 1910
         },
         {
          "age": 45,
          "people": 2363801,
          "sex": 1,
          "year": 1910
         },
         {
          "age": 45,
          "people": 2114930,
          "sex": 2,
          "year": 1910
         },
         {
          "age": 50,
          "people": 2126516,
          "sex": 1,
          "year": 1910
         },
         {
          "age": 50,
          "people": 1773592,
          "sex": 2,
          "year": 1910
         },
         {
          "age": 55,
          "people": 1508358,
          "sex": 1,
          "year": 1910
         },
         {
          "age": 55,
          "people": 1317651,
          "sex": 2,
          "year": 1910
         },
         {
          "age": 60,
          "people": 1189421,
          "sex": 1,
          "year": 1910
         },
         {
          "age": 60,
          "people": 1090697,
          "sex": 2,
          "year": 1910
         },
         {
          "age": 65,
          "people": 850159,
          "sex": 1,
          "year": 1910
         },
         {
          "age": 65,
          "people": 813868,
          "sex": 2,
          "year": 1910
         },
         {
          "age": 70,
          "people": 557936,
          "sex": 1,
          "year": 1910
         },
         {
          "age": 70,
          "people": 547623,
          "sex": 2,
          "year": 1910
         },
         {
          "age": 75,
          "people": 322679,
          "sex": 1,
          "year": 1910
         },
         {
          "age": 75,
          "people": 350900,
          "sex": 2,
          "year": 1910
         },
         {
          "age": 80,
          "people": 161715,
          "sex": 1,
          "year": 1910
         },
         {
          "age": 80,
          "people": 174315,
          "sex": 2,
          "year": 1910
         },
         {
          "age": 85,
          "people": 59699,
          "sex": 1,
          "year": 1910
         },
         {
          "age": 85,
          "people": 62725,
          "sex": 2,
          "year": 1910
         },
         {
          "age": 90,
          "people": 23929,
          "sex": 1,
          "year": 1910
         },
         {
          "age": 90,
          "people": 28965,
          "sex": 2,
          "year": 1910
         },
         {
          "age": 0,
          "people": 5934792,
          "sex": 1,
          "year": 1920
         },
         {
          "age": 0,
          "people": 5694244,
          "sex": 2,
          "year": 1920
         },
         {
          "age": 5,
          "people": 5789008,
          "sex": 1,
          "year": 1920
         },
         {
          "age": 5,
          "people": 5693960,
          "sex": 2,
          "year": 1920
         },
         {
          "age": 10,
          "people": 5401156,
          "sex": 1,
          "year": 1920
         },
         {
          "age": 10,
          "people": 5293057,
          "sex": 2,
          "year": 1920
         },
         {
          "age": 15,
          "people": 4724365,
          "sex": 1,
          "year": 1920
         },
         {
          "age": 15,
          "people": 4779936,
          "sex": 2,
          "year": 1920
         },
         {
          "age": 20,
          "people": 4549411,
          "sex": 1,
          "year": 1920
         },
         {
          "age": 20,
          "people": 4742632,
          "sex": 2,
          "year": 1920
         },
         {
          "age": 25,
          "people": 4565066,
          "sex": 1,
          "year": 1920
         },
         {
          "age": 25,
          "people": 4529382,
          "sex": 2,
          "year": 1920
         },
         {
          "age": 30,
          "people": 4110771,
          "sex": 1,
          "year": 1920
         },
         {
          "age": 30,
          "people": 3982426,
          "sex": 2,
          "year": 1920
         },
         {
          "age": 35,
          "people": 4081543,
          "sex": 1,
          "year": 1920
         },
         {
          "age": 35,
          "people": 3713810,
          "sex": 2,
          "year": 1920
         },
         {
          "age": 40,
          "people": 3321923,
          "sex": 1,
          "year": 1920
         },
         {
          "age": 40,
          "people": 3059757,
          "sex": 2,
          "year": 1920
         },
         {
          "age": 45,
          "people": 3143891,
          "sex": 1,
          "year": 1920
         },
         {
          "age": 45,
          "people": 2669089,
          "sex": 2,
          "year": 1920
         },
         {
          "age": 50,
          "people": 2546035,
          "sex": 1,
          "year": 1920
         },
         {
          "age": 50,
          "people": 2200491,
          "sex": 2,
          "year": 1920
         },
         {
          "age": 55,
          "people": 1880975,
          "sex": 1,
          "year": 1920
         },
         {
          "age": 55,
          "people": 1674672,
          "sex": 2,
          "year": 1920
         },
         {
          "age": 60,
          "people": 1587549,
          "sex": 1,
          "year": 1920
         },
         {
          "age": 60,
          "people": 1382877,
          "sex": 2,
          "year": 1920
         },
         {
          "age": 65,
          "people": 1095956,
          "sex": 1,
          "year": 1920
         },
         {
          "age": 65,
          "people": 989901,
          "sex": 2,
          "year": 1920
         },
         {
          "age": 70,
          "people": 714618,
          "sex": 1,
          "year": 1920
         },
         {
          "age": 70,
          "people": 690097,
          "sex": 2,
          "year": 1920
         },
         {
          "age": 75,
          "people": 417292,
          "sex": 1,
          "year": 1920
         },
         {
          "age": 75,
          "people": 439465,
          "sex": 2,
          "year": 1920
         },
         {
          "age": 80,
          "people": 187000,
          "sex": 1,
          "year": 1920
         },
         {
          "age": 80,
          "people": 211110,
          "sex": 2,
          "year": 1920
         },
         {
          "age": 85,
          "people": 75991,
          "sex": 1,
          "year": 1920
         },
         {
          "age": 85,
          "people": 92829,
          "sex": 2,
          "year": 1920
         },
         {
          "age": 90,
          "people": 22398,
          "sex": 1,
          "year": 1920
         },
         {
          "age": 90,
          "people": 32085,
          "sex": 2,
          "year": 1920
         },
         {
          "age": 0,
          "people": 5875250,
          "sex": 1,
          "year": 1930
         },
         {
          "age": 0,
          "people": 5662530,
          "sex": 2,
          "year": 1930
         },
         {
          "age": 5,
          "people": 6542592,
          "sex": 1,
          "year": 1930
         },
         {
          "age": 5,
          "people": 6129561,
          "sex": 2,
          "year": 1930
         },
         {
          "age": 10,
          "people": 6064820,
          "sex": 1,
          "year": 1930
         },
         {
          "age": 10,
          "people": 5986529,
          "sex": 2,
          "year": 1930
         },
         {
          "age": 15,
          "people": 5709452,
          "sex": 1,
          "year": 1930
         },
         {
          "age": 15,
          "people": 5769587,
          "sex": 2,
          "year": 1930
         },
         {
          "age": 20,
          "people": 5305992,
          "sex": 1,
          "year": 1930
         },
         {
          "age": 20,
          "people": 5565382,
          "sex": 2,
          "year": 1930
         },
         {
          "age": 25,
          "people": 4929853,
          "sex": 1,
          "year": 1930
         },
         {
          "age": 25,
          "people": 5050229,
          "sex": 2,
          "year": 1930
         },
         {
          "age": 30,
          "people": 4424408,
          "sex": 1,
          "year": 1930
         },
         {
          "age": 30,
          "people": 4455213,
          "sex": 2,
          "year": 1930
         },
         {
          "age": 35,
          "people": 4576531,
          "sex": 1,
          "year": 1930
         },
         {
          "age": 35,
          "people": 4593776,
          "sex": 2,
          "year": 1930
         },
         {
          "age": 40,
          "people": 4075139,
          "sex": 1,
          "year": 1930
         },
         {
          "age": 40,
          "people": 3754022,
          "sex": 2,
          "year": 1930
         },
         {
          "age": 45,
          "people": 3633152,
          "sex": 1,
          "year": 1930
         },
         {
          "age": 45,
          "people": 3396558,
          "sex": 2,
          "year": 1930
         },
         {
          "age": 50,
          "people": 3128108,
          "sex": 1,
          "year": 1930
         },
         {
          "age": 50,
          "people": 2809191,
          "sex": 2,
          "year": 1930
         },
         {
          "age": 55,
          "people": 2434077,
          "sex": 1,
          "year": 1930
         },
         {
          "age": 55,
          "people": 2298614,
          "sex": 2,
          "year": 1930
         },
         {
          "age": 60,
          "people": 1927564,
          "sex": 1,
          "year": 1930
         },
         {
          "age": 60,
          "people": 1783515,
          "sex": 2,
          "year": 1930
         },
         {
          "age": 65,
          "people": 1397275,
          "sex": 1,
          "year": 1930
         },
         {
          "age": 65,
          "people": 1307312,
          "sex": 2,
          "year": 1930
         },
         {
          "age": 70,
          "people": 919045,
          "sex": 1,
          "year": 1930
         },
         {
          "age": 70,
          "people": 918509,
          "sex": 2,
          "year": 1930
         },
         {
          "age": 75,
          "people": 536375,
          "sex": 1,
          "year": 1930
         },
         {
          "age": 75,
          "people": 522716,
          "sex": 2,
          "year": 1930
         },
         {
          "age": 80,
          "people": 246708,
          "sex": 1,
          "year": 1930
         },
         {
          "age": 80,
          "people": 283579,
          "sex": 2,
          "year": 1930
         },
         {
          "age": 85,
          "people": 88978,
          "sex": 1,
          "year": 1930
         },
         {
          "age": 85,
          "people": 109210,
          "sex": 2,
          "year": 1930
         },
         {
          "age": 90,
          "people": 30338,
          "sex": 1,
          "year": 1930
         },
         {
          "age": 90,
          "people": 43483,
          "sex": 2,
          "year": 1930
         },
         {
          "age": 0,
          "people": 5294628,
          "sex": 1,
          "year": 1940
         },
         {
          "age": 0,
          "people": 5124653,
          "sex": 2,
          "year": 1940
         },
         {
          "age": 5,
          "people": 5468378,
          "sex": 1,
          "year": 1940
         },
         {
          "age": 5,
          "people": 5359099,
          "sex": 2,
          "year": 1940
         },
         {
          "age": 10,
          "people": 5960416,
          "sex": 1,
          "year": 1940
         },
         {
          "age": 10,
          "people": 5868532,
          "sex": 2,
          "year": 1940
         },
         {
          "age": 15,
          "people": 6165109,
          "sex": 1,
          "year": 1940
         },
         {
          "age": 15,
          "people": 6193701,
          "sex": 2,
          "year": 1940
         },
         {
          "age": 20,
          "people": 5682414,
          "sex": 1,
          "year": 1940
         },
         {
          "age": 20,
          "people": 5896002,
          "sex": 2,
          "year": 1940
         },
         {
          "age": 25,
          "people": 5438166,
          "sex": 1,
          "year": 1940
         },
         {
          "age": 25,
          "people": 5664244,
          "sex": 2,
          "year": 1940
         },
         {
          "age": 30,
          "people": 5040048,
          "sex": 1,
          "year": 1940
         },
         {
          "age": 30,
          "people": 5171522,
          "sex": 2,
          "year": 1940
         },
         {
          "age": 35,
          "people": 4724804,
          "sex": 1,
          "year": 1940
         },
         {
          "age": 35,
          "people": 4791809,
          "sex": 2,
          "year": 1940
         },
         {
          "age": 40,
          "people": 4437392,
          "sex": 1,
          "year": 1940
         },
         {
          "age": 40,
          "people": 4394061,
          "sex": 2,
          "year": 1940
         },
         {
          "age": 45,
          "people": 4190187,
          "sex": 1,
          "year": 1940
         },
         {
          "age": 45,
          "people": 4050290,
          "sex": 2,
          "year": 1940
         },
         {
          "age": 50,
          "people": 3785735,
          "sex": 1,
          "year": 1940
         },
         {
          "age": 50,
          "people": 3488396,
          "sex": 2,
          "year": 1940
         },
         {
          "age": 55,
          "people": 2972069,
          "sex": 1,
          "year": 1940
         },
         {
          "age": 55,
          "people": 2810000,
          "sex": 2,
          "year": 1940
         },
         {
          "age": 60,
          "people": 2370232,
          "sex": 1,
          "year": 1940
         },
         {
          "age": 60,
          "people": 2317790,
          "sex": 2,
          "year": 1940
         },
         {
          "age": 65,
          "people": 1897678,
          "sex": 1,
          "year": 1940
         },
         {
          "age": 65,
          "people": 1911117,
          "sex": 2,
          "year": 1940
         },
         {
          "age": 70,
          "people": 1280023,
          "sex": 1,
          "year": 1940
         },
         {
          "age": 70,
          "people": 1287711,
          "sex": 2,
          "year": 1940
         },
         {
          "age": 75,
          "people": 713875,
          "sex": 1,
          "year": 1940
         },
         {
          "age": 75,
          "people": 764915,
          "sex": 2,
          "year": 1940
         },
         {
          "age": 80,
          "people": 359418,
          "sex": 1,
          "year": 1940
         },
         {
          "age": 80,
          "people": 414761,
          "sex": 2,
          "year": 1940
         },
         {
          "age": 85,
          "people": 127303,
          "sex": 1,
          "year": 1940
         },
         {
          "age": 85,
          "people": 152131,
          "sex": 2,
          "year": 1940
         },
         {
          "age": 90,
          "people": 42263,
          "sex": 1,
          "year": 1940
         },
         {
          "age": 90,
          "people": 58119,
          "sex": 2,
          "year": 1940
         },
         {
          "age": 0,
          "people": 8211806,
          "sex": 1,
          "year": 1950
         },
         {
          "age": 0,
          "people": 7862267,
          "sex": 2,
          "year": 1950
         },
         {
          "age": 5,
          "people": 6706601,
          "sex": 1,
          "year": 1950
         },
         {
          "age": 5,
          "people": 6450863,
          "sex": 2,
          "year": 1950
         },
         {
          "age": 10,
          "people": 5629744,
          "sex": 1,
          "year": 1950
         },
         {
          "age": 10,
          "people": 5430835,
          "sex": 2,
          "year": 1950
         },
         {
          "age": 15,
          "people": 5264129,
          "sex": 1,
          "year": 1950
         },
         {
          "age": 15,
          "people": 5288742,
          "sex": 2,
          "year": 1950
         },
         {
          "age": 20,
          "people": 5573308,
          "sex": 1,
          "year": 1950
         },
         {
          "age": 20,
          "people": 5854227,
          "sex": 2,
          "year": 1950
         },
         {
          "age": 25,
          "people": 6007254,
          "sex": 1,
          "year": 1950
         },
         {
          "age": 25,
          "people": 6317332,
          "sex": 2,
          "year": 1950
         },
         {
          "age": 30,
          "people": 5676022,
          "sex": 1,
          "year": 1950
         },
         {
          "age": 30,
          "people": 5895178,
          "sex": 2,
          "year": 1950
         },
         {
          "age": 35,
          "people": 5511364,
          "sex": 1,
          "year": 1950
         },
         {
          "age": 35,
          "people": 5696261,
          "sex": 2,
          "year": 1950
         },
         {
          "age": 40,
          "people": 5076985,
          "sex": 1,
          "year": 1950
         },
         {
          "age": 40,
          "people": 5199224,
          "sex": 2,
          "year": 1950
         },
         {
          "age": 45,
          "people": 4533177,
          "sex": 1,
          "year": 1950
         },
         {
          "age": 45,
          "people": 4595842,
          "sex": 2,
          "year": 1950
         },
         {
          "age": 50,
          "people": 4199164,
          "sex": 1,
          "year": 1950
         },
         {
          "age": 50,
          "people": 4147295,
          "sex": 2,
          "year": 1950
         },
         {
          "age": 55,
          "people": 3667351,
          "sex": 1,
          "year": 1950
         },
         {
          "age": 55,
          "people": 3595158,
          "sex": 2,
          "year": 1950
         },
         {
          "age": 60,
          "people": 3035038,
          "sex": 1,
          "year": 1950
         },
         {
          "age": 60,
          "people": 3009768,
          "sex": 2,
          "year": 1950
         },
         {
          "age": 65,
          "people": 2421234,
          "sex": 1,
          "year": 1950
         },
         {
          "age": 65,
          "people": 2548250,
          "sex": 2,
          "year": 1950
         },
         {
          "age": 70,
          "people": 1627920,
          "sex": 1,
          "year": 1950
         },
         {
          "age": 70,
          "people": 1786831,
          "sex": 2,
          "year": 1950
         },
         {
          "age": 75,
          "people": 1006530,
          "sex": 1,
          "year": 1950
         },
         {
          "age": 75,
          "people": 1148469,
          "sex": 2,
          "year": 1950
         },
         {
          "age": 80,
          "people": 511727,
          "sex": 1,
          "year": 1950
         },
         {
          "age": 80,
          "people": 637717,
          "sex": 2,
          "year": 1950
         },
         {
          "age": 85,
          "people": 182821,
          "sex": 1,
          "year": 1950
         },
         {
          "age": 85,
          "people": 242798,
          "sex": 2,
          "year": 1950
         },
         {
          "age": 90,
          "people": 54836,
          "sex": 1,
          "year": 1950
         },
         {
          "age": 90,
          "people": 90766,
          "sex": 2,
          "year": 1950
         },
         {
          "age": 0,
          "people": 10374975,
          "sex": 1,
          "year": 1960
         },
         {
          "age": 0,
          "people": 10146999,
          "sex": 2,
          "year": 1960
         },
         {
          "age": 5,
          "people": 9495503,
          "sex": 1,
          "year": 1960
         },
         {
          "age": 5,
          "people": 9250741,
          "sex": 2,
          "year": 1960
         },
         {
          "age": 10,
          "people": 8563700,
          "sex": 1,
          "year": 1960
         },
         {
          "age": 10,
          "people": 8310764,
          "sex": 2,
          "year": 1960
         },
         {
          "age": 15,
          "people": 6620902,
          "sex": 1,
          "year": 1960
         },
         {
          "age": 15,
          "people": 6617493,
          "sex": 2,
          "year": 1960
         },
         {
          "age": 20,
          "people": 5268384,
          "sex": 1,
          "year": 1960
         },
         {
          "age": 20,
          "people": 5513495,
          "sex": 2,
          "year": 1960
         },
         {
          "age": 25,
          "people": 5311805,
          "sex": 1,
          "year": 1960
         },
         {
          "age": 25,
          "people": 5548259,
          "sex": 2,
          "year": 1960
         },
         {
          "age": 30,
          "people": 5801342,
          "sex": 1,
          "year": 1960
         },
         {
          "age": 30,
          "people": 6090862,
          "sex": 2,
          "year": 1960
         },
         {
          "age": 35,
          "people": 6063063,
          "sex": 1,
          "year": 1960
         },
         {
          "age": 35,
          "people": 6431337,
          "sex": 2,
          "year": 1960
         },
         {
          "age": 40,
          "people": 5657943,
          "sex": 1,
          "year": 1960
         },
         {
          "age": 40,
          "people": 5940520,
          "sex": 2,
          "year": 1960
         },
         {
          "age": 45,
          "people": 5345658,
          "sex": 1,
          "year": 1960
         },
         {
          "age": 45,
          "people": 5516028,
          "sex": 2,
          "year": 1960
         },
         {
          "age": 50,
          "people": 4763364,
          "sex": 1,
          "year": 1960
         },
         {
          "age": 50,
          "people": 4928844,
          "sex": 2,
          "year": 1960
         },
         {
          "age": 55,
          "people": 4170581,
          "sex": 1,
          "year": 1960
         },
         {
          "age": 55,
          "people": 4402878,
          "sex": 2,
          "year": 1960
         },
         {
          "age": 60,
          "people": 3405293,
          "sex": 1,
          "year": 1960
         },
         {
          "age": 60,
          "people": 3723839,
          "sex": 2,
          "year": 1960
         },
         {
          "age": 65,
          "people": 2859371,
          "sex": 1,
          "year": 1960
         },
         {
          "age": 65,
          "people": 3268699,
          "sex": 2,
          "year": 1960
         },
         {
          "age": 70,
          "people": 2115763,
          "sex": 1,
          "year": 1960
         },
         {
          "age": 70,
          "people": 2516479,
          "sex": 2,
          "year": 1960
         },
         {
          "age": 75,
          "people": 1308913,
          "sex": 1,
          "year": 1960
         },
         {
          "age": 75,
          "people": 1641371,
          "sex": 2,
          "year": 1960
         },
         {
          "age": 80,
          "people": 619923,
          "sex": 1,
          "year": 1960
         },
         {
          "age": 80,
          "people": 856952,
          "sex": 2,
          "year": 1960
         },
         {
          "age": 85,
          "people": 253245,
          "sex": 1,
          "year": 1960
         },
         {
          "age": 85,
          "people": 384572,
          "sex": 2,
          "year": 1960
         },
         {
          "age": 90,
          "people": 75908,
          "sex": 1,
          "year": 1960
         },
         {
          "age": 90,
          "people": 135774,
          "sex": 2,
          "year": 1960
         },
         {
          "age": 0,
          "people": 8685121,
          "sex": 1,
          "year": 1970
         },
         {
          "age": 0,
          "people": 8326887,
          "sex": 2,
          "year": 1970
         },
         {
          "age": 5,
          "people": 10411131,
          "sex": 1,
          "year": 1970
         },
         {
          "age": 5,
          "people": 10003293,
          "sex": 2,
          "year": 1970
         },
         {
          "age": 10,
          "people": 10756403,
          "sex": 1,
          "year": 1970
         },
         {
          "age": 10,
          "people": 10343538,
          "sex": 2,
          "year": 1970
         },
         {
          "age": 15,
          "people": 9605399,
          "sex": 1,
          "year": 1970
         },
         {
          "age": 15,
          "people": 9414284,
          "sex": 2,
          "year": 1970
         },
         {
          "age": 20,
          "people": 7729202,
          "sex": 1,
          "year": 1970
         },
         {
          "age": 20,
          "people": 8341830,
          "sex": 2,
          "year": 1970
         },
         {
          "age": 25,
          "people": 6539301,
          "sex": 1,
          "year": 1970
         },
         {
          "age": 25,
          "people": 6903041,
          "sex": 2,
          "year": 1970
         },
         {
          "age": 30,
          "people": 5519879,
          "sex": 1,
          "year": 1970
         },
         {
          "age": 30,
          "people": 5851441,
          "sex": 2,
          "year": 1970
         },
         {
          "age": 35,
          "people": 5396732,
          "sex": 1,
          "year": 1970
         },
         {
          "age": 35,
          "people": 5708021,
          "sex": 2,
          "year": 1970
         },
         {
          "age": 40,
          "people": 5718538,
          "sex": 1,
          "year": 1970
         },
         {
          "age": 40,
          "people": 6129319,
          "sex": 2,
          "year": 1970
         },
         {
          "age": 45,
          "people": 5794120,
          "sex": 1,
          "year": 1970
         },
         {
          "age": 45,
          "people": 6198742,
          "sex": 2,
          "year": 1970
         },
         {
          "age": 50,
          "people": 5298312,
          "sex": 1,
          "year": 1970
         },
         {
          "age": 50,
          "people": 5783817,
          "sex": 2,
          "year": 1970
         },
         {
          "age": 55,
          "people": 4762911,
          "sex": 1,
          "year": 1970
         },
         {
          "age": 55,
          "people": 5222164,
          "sex": 2,
          "year": 1970
         },
         {
          "age": 60,
          "people": 4037643,
          "sex": 1,
          "year": 1970
         },
         {
          "age": 60,
          "people": 4577251,
          "sex": 2,
          "year": 1970
         },
         {
          "age": 65,
          "people": 3142606,
          "sex": 1,
          "year": 1970
         },
         {
          "age": 65,
          "people": 3894827,
          "sex": 2,
          "year": 1970
         },
         {
          "age": 70,
          "people": 2340826,
          "sex": 1,
          "year": 1970
         },
         {
          "age": 70,
          "people": 3138009,
          "sex": 2,
          "year": 1970
         },
         {
          "age": 75,
          "people": 1599269,
          "sex": 1,
          "year": 1970
         },
         {
          "age": 75,
          "people": 2293376,
          "sex": 2,
          "year": 1970
         },
         {
          "age": 80,
          "people": 886155,
          "sex": 1,
          "year": 1970
         },
         {
          "age": 80,
          "people": 1417553,
          "sex": 2,
          "year": 1970
         },
         {
          "age": 85,
          "people": 371123,
          "sex": 1,
          "year": 1970
         },
         {
          "age": 85,
          "people": 658511,
          "sex": 2,
          "year": 1970
         },
         {
          "age": 90,
          "people": 186502,
          "sex": 1,
          "year": 1970
         },
         {
          "age": 90,
          "people": 314929,
          "sex": 2,
          "year": 1970
         },
         {
          "age": 0,
          "people": 8439366,
          "sex": 1,
          "year": 1980
         },
         {
          "age": 0,
          "people": 8081854,
          "sex": 2,
          "year": 1980
         },
         {
          "age": 5,
          "people": 8680730,
          "sex": 1,
          "year": 1980
         },
         {
          "age": 5,
          "people": 8275881,
          "sex": 2,
          "year": 1980
         },
         {
          "age": 10,
          "people": 9452338,
          "sex": 1,
          "year": 1980
         },
         {
          "age": 10,
          "people": 9048483,
          "sex": 2,
          "year": 1980
         },
         {
          "age": 15,
          "people": 10698856,
          "sex": 1,
          "year": 1980
         },
         {
          "age": 15,
          "people": 10410271,
          "sex": 2,
          "year": 1980
         },
         {
          "age": 20,
          "people": 10486776,
          "sex": 1,
          "year": 1980
         },
         {
          "age": 20,
          "people": 10614947,
          "sex": 2,
          "year": 1980
         },
         {
          "age": 25,
          "people": 9624053,
          "sex": 1,
          "year": 1980
         },
         {
          "age": 25,
          "people": 9827903,
          "sex": 2,
          "year": 1980
         },
         {
          "age": 30,
          "people": 8705835,
          "sex": 1,
          "year": 1980
         },
         {
          "age": 30,
          "people": 8955225,
          "sex": 2,
          "year": 1980
         },
         {
          "age": 35,
          "people": 6852069,
          "sex": 1,
          "year": 1980
         },
         {
          "age": 35,
          "people": 7134239,
          "sex": 2,
          "year": 1980
         },
         {
          "age": 40,
          "people": 5692148,
          "sex": 1,
          "year": 1980
         },
         {
          "age": 40,
          "people": 5953910,
          "sex": 2,
          "year": 1980
         },
         {
          "age": 45,
          "people": 5342469,
          "sex": 1,
          "year": 1980
         },
         {
          "age": 45,
          "people": 5697543,
          "sex": 2,
          "year": 1980
         },
         {
          "age": 50,
          "people": 5603709,
          "sex": 1,
          "year": 1980
         },
         {
          "age": 50,
          "people": 6110117,
          "sex": 2,
          "year": 1980
         },
         {
          "age": 55,
          "people": 5485098,
          "sex": 1,
          "year": 1980
         },
         {
          "age": 55,
          "people": 6160229,
          "sex": 2,
          "year": 1980
         },
         {
          "age": 60,
          "people": 4696140,
          "sex": 1,
          "year": 1980
         },
         {
          "age": 60,
          "people": 5456885,
          "sex": 2,
          "year": 1980
         },
         {
          "age": 65,
          "people": 3893510,
          "sex": 1,
          "year": 1980
         },
         {
          "age": 65,
          "people": 4896947,
          "sex": 2,
          "year": 1980
         },
         {
          "age": 70,
          "people": 2857774,
          "sex": 1,
          "year": 1980
         },
         {
          "age": 70,
          "people": 3963441,
          "sex": 2,
          "year": 1980
         },
         {
          "age": 75,
          "people": 1840438,
          "sex": 1,
          "year": 1980
         },
         {
          "age": 75,
          "people": 2951759,
          "sex": 2,
          "year": 1980
         },
         {
          "age": 80,
          "people": 1012886,
          "sex": 1,
          "year": 1980
         },
         {
          "age": 80,
          "people": 1919292,
          "sex": 2,
          "year": 1980
         },
         {
          "age": 85,
          "people": 472338,
          "sex": 1,
          "year": 1980
         },
         {
          "age": 85,
          "people": 1023115,
          "sex": 2,
          "year": 1980
         },
         {
          "age": 90,
          "people": 204148,
          "sex": 1,
          "year": 1980
         },
         {
          "age": 90,
          "people": 499046,
          "sex": 2,
          "year": 1980
         },
         {
          "age": 0,
          "people": 9307465,
          "sex": 1,
          "year": 1990
         },
         {
          "age": 0,
          "people": 8894007,
          "sex": 2,
          "year": 1990
         },
         {
          "age": 5,
          "people": 9274732,
          "sex": 1,
          "year": 1990
         },
         {
          "age": 5,
          "people": 8799955,
          "sex": 2,
          "year": 1990
         },
         {
          "age": 10,
          "people": 8782542,
          "sex": 1,
          "year": 1990
         },
         {
          "age": 10,
          "people": 8337284,
          "sex": 2,
          "year": 1990
         },
         {
          "age": 15,
          "people": 9020572,
          "sex": 1,
          "year": 1990
         },
         {
          "age": 15,
          "people": 8590991,
          "sex": 2,
          "year": 1990
         },
         {
          "age": 20,
          "people": 9436188,
          "sex": 1,
          "year": 1990
         },
         {
          "age": 20,
          "people": 9152644,
          "sex": 2,
          "year": 1990
         },
         {
          "age": 25,
          "people": 10658027,
          "sex": 1,
          "year": 1990
         },
         {
          "age": 25,
          "people": 10587292,
          "sex": 2,
          "year": 1990
         },
         {
          "age": 30,
          "people": 11028712,
          "sex": 1,
          "year": 1990
         },
         {
          "age": 30,
          "people": 11105750,
          "sex": 2,
          "year": 1990
         },
         {
          "age": 35,
          "people": 9853933,
          "sex": 1,
          "year": 1990
         },
         {
          "age": 35,
          "people": 10038644,
          "sex": 2,
          "year": 1990
         },
         {
          "age": 40,
          "people": 8712632,
          "sex": 1,
          "year": 1990
         },
         {
          "age": 40,
          "people": 8928252,
          "sex": 2,
          "year": 1990
         },
         {
          "age": 45,
          "people": 6848082,
          "sex": 1,
          "year": 1990
         },
         {
          "age": 45,
          "people": 7115129,
          "sex": 2,
          "year": 1990
         },
         {
          "age": 50,
          "people": 5553992,
          "sex": 1,
          "year": 1990
         },
         {
          "age": 50,
          "people": 5899925,
          "sex": 2,
          "year": 1990
         },
         {
          "age": 55,
          "people": 4981670,
          "sex": 1,
          "year": 1990
         },
         {
          "age": 55,
          "people": 5460506,
          "sex": 2,
          "year": 1990
         },
         {
          "age": 60,
          "people": 4953822,
          "sex": 1,
          "year": 1990
         },
         {
          "age": 60,
          "people": 5663205,
          "sex": 2,
          "year": 1990
         },
         {
          "age": 65,
          "people": 4538398,
          "sex": 1,
          "year": 1990
         },
         {
          "age": 65,
          "people": 5594108,
          "sex": 2,
          "year": 1990
         },
         {
          "age": 70,
          "people": 3429420,
          "sex": 1,
          "year": 1990
         },
         {
          "age": 70,
          "people": 4610222,
          "sex": 2,
          "year": 1990
         },
         {
          "age": 75,
          "people": 2344932,
          "sex": 1,
          "year": 1990
         },
         {
          "age": 75,
          "people": 3723980,
          "sex": 2,
          "year": 1990
         },
         {
          "age": 80,
          "people": 1342996,
          "sex": 1,
          "year": 1990
         },
         {
          "age": 80,
          "people": 2545730,
          "sex": 2,
          "year": 1990
         },
         {
          "age": 85,
          "people": 588790,
          "sex": 1,
          "year": 1990
         },
         {
          "age": 85,
          "people": 1419494,
          "sex": 2,
          "year": 1990
         },
         {
          "age": 90,
          "people": 238459,
          "sex": 1,
          "year": 1990
         },
         {
          "age": 90,
          "people": 745146,
          "sex": 2,
          "year": 1990
         },
         {
          "age": 0,
          "people": 9735380,
          "sex": 1,
          "year": 2000
         },
         {
          "age": 0,
          "people": 9310714,
          "sex": 2,
          "year": 2000
         },
         {
          "age": 5,
          "people": 10552146,
          "sex": 1,
          "year": 2000
         },
         {
          "age": 5,
          "people": 10069564,
          "sex": 2,
          "year": 2000
         },
         {
          "age": 10,
          "people": 10563233,
          "sex": 1,
          "year": 2000
         },
         {
          "age": 10,
          "people": 10022524,
          "sex": 2,
          "year": 2000
         },
         {
          "age": 15,
          "people": 10237419,
          "sex": 1,
          "year": 2000
         },
         {
          "age": 15,
          "people": 9692669,
          "sex": 2,
          "year": 2000
         },
         {
          "age": 20,
          "people": 9731315,
          "sex": 1,
          "year": 2000
         },
         {
          "age": 20,
          "people": 9324244,
          "sex": 2,
          "year": 2000
         },
         {
          "age": 25,
          "people": 9659493,
          "sex": 1,
          "year": 2000
         },
         {
          "age": 25,
          "people": 9518507,
          "sex": 2,
          "year": 2000
         },
         {
          "age": 30,
          "people": 10205879,
          "sex": 1,
          "year": 2000
         },
         {
          "age": 30,
          "people": 10119296,
          "sex": 2,
          "year": 2000
         },
         {
          "age": 35,
          "people": 11475182,
          "sex": 1,
          "year": 2000
         },
         {
          "age": 35,
          "people": 11635647,
          "sex": 2,
          "year": 2000
         },
         {
          "age": 40,
          "people": 11320252,
          "sex": 1,
          "year": 2000
         },
         {
          "age": 40,
          "people": 11488578,
          "sex": 2,
          "year": 2000
         },
         {
          "age": 45,
          "people": 9925006,
          "sex": 1,
          "year": 2000
         },
         {
          "age": 45,
          "people": 10261253,
          "sex": 2,
          "year": 2000
         },
         {
          "age": 50,
          "people": 8507934,
          "sex": 1,
          "year": 2000
         },
         {
          "age": 50,
          "people": 8911133,
          "sex": 2,
          "year": 2000
         },
         {
          "age": 55,
          "people": 6459082,
          "sex": 1,
          "year": 2000
         },
         {
          "age": 55,
          "people": 6921268,
          "sex": 2,
          "year": 2000
         },
         {
          "age": 60,
          "people": 5123399,
          "sex": 1,
          "year": 2000
         },
         {
          "age": 60,
          "people": 5668961,
          "sex": 2,
          "year": 2000
         },
         {
          "age": 65,
          "people": 4453623,
          "sex": 1,
          "year": 2000
         },
         {
          "age": 65,
          "people": 4804784,
          "sex": 2,
          "year": 2000
         },
         {
          "age": 70,
          "people": 3792145,
          "sex": 1,
          "year": 2000
         },
         {
          "age": 70,
          "people": 5184855,
          "sex": 2,
          "year": 2000
         },
         {
          "age": 75,
          "people": 2912655,
          "sex": 1,
          "year": 2000
         },
         {
          "age": 75,
          "people": 4355644,
          "sex": 2,
          "year": 2000
         },
         {
          "age": 80,
          "people": 1902638,
          "sex": 1,
          "year": 2000
         },
         {
          "age": 80,
          "people": 3221898,
          "sex": 2,
          "year": 2000
         },
         {
          "age": 85,
          "people": 970357,
          "sex": 1,
          "year": 2000
         },
         {
          "age": 85,
          "people": 1981156,
          "sex": 2,
          "year": 2000
         },
         {
          "age": 90,
          "people": 336303,
          "sex": 1,
          "year": 2000
         },
         {
          "age": 90,
          "people": 1064581,
          "sex": 2,
          "year": 2000
         }
        ]
       },
       "layer": [
        {
         "encoding": {
          "x": {
           "field": "age",
           "type": "ordinal"
          },
          "y": {
           "aggregate": "min",
           "axis": {
            "title": "population"
           },
           "field": "people",
           "type": "quantitative"
          },
          "y2": {
           "aggregate": "q1",
           "field": "people",
           "type": "quantitative"
          }
         },
         "mark": "rule"
        },
        {
         "encoding": {
          "x": {
           "field": "age",
           "type": "ordinal"
          },
          "y": {
           "aggregate": "q1",
           "field": "people",
           "type": "quantitative"
          },
          "y2": {
           "aggregate": "q3",
           "field": "people",
           "type": "quantitative"
          }
         },
         "mark": {
          "size": 5,
          "type": "bar"
         }
        },
        {
         "encoding": {
          "x": {
           "field": "age",
           "type": "ordinal"
          },
          "y": {
           "aggregate": "max",
           "field": "people",
           "type": "quantitative"
          },
          "y2": {
           "aggregate": "q3",
           "field": "people",
           "type": "quantitative"
          }
         },
         "mark": "rule"
        },
        {
         "encoding": {
          "x": {
           "field": "age",
           "type": "ordinal"
          },
          "y": {
           "aggregate": "median",
           "field": "people",
           "type": "quantitative"
          }
         },
         "mark": {
          "color": "white",
          "size": 5,
          "type": "tick"
         }
        }
       ]
      },
      "image/png": "[encoded data removed]",
      "image/svg+xml": [
       "<?xml version=\"1.0\" encoding=\"utf-8\"?>\n",
       "<!DOCTYPE svg PUBLIC \"-//W3C//DTD SVG 1.1//EN\" \"http://www.w3.org/Graphics/SVG/1.1/DTD/svg11.dtd\">\n",
       "<svg class=\"marks\" width=\"514\" height=\"257\" viewBox=\"0 0 514 257\" version=\"1.1\" xmlns=\"http://www.w3.org/2000/svg\" xmlns:xlink=\"http://www.w3.org/1999/xlink\"><g transform=\"translate(110,11)\"><g class=\"mark-group role-frame root\"><g transform=\"translate(0,0)\"><path class=\"background\" d=\"M0.5,0.5h399v200h-399Z\" style=\"fill: none; stroke: #ddd;\"></path><g><g class=\"mark-group role-axis\"><g transform=\"translate(0.5,0.5)\"><path class=\"background\" d=\"M0,0h0v0h0Z\" style=\"pointer-events: none; fill: none;\"></path><g><g class=\"mark-rule role-axis-grid\" style=\"pointer-events: none;\"><line transform=\"translate(0,200)\" x2=\"399\" y2=\"0\" style=\"fill: none; stroke: #ddd; stroke-width: 1; opacity: 1;\"></line><line transform=\"translate(0,167)\" x2=\"399\" y2=\"0\" style=\"fill: none; stroke: #ddd; stroke-width: 1; opacity: 1;\"></line><line transform=\"translate(0,133)\" x2=\"399\" y2=\"0\" style=\"fill: none; stroke: #ddd; stroke-width: 1; opacity: 1;\"></line><line transform=\"translate(0,100)\" x2=\"399\" y2=\"0\" style=\"fill: none; stroke: #ddd; stroke-width: 1; opacity: 1;\"></line><line transform=\"translate(0,67)\" x2=\"399\" y2=\"0\" style=\"fill: none; stroke: #ddd; stroke-width: 1; opacity: 1;\"></line><line transform=\"translate(0,33)\" x2=\"399\" y2=\"0\" style=\"fill: none; stroke: #ddd; stroke-width: 1; opacity: 1;\"></line><line transform=\"translate(0,0)\" x2=\"399\" y2=\"0\" style=\"fill: none; stroke: #ddd; stroke-width: 1; opacity: 1;\"></line></g></g></g></g><g class=\"mark-rule role-mark layer_0_marks\"><line transform=\"translate(10.500000000000012,175.82706666666667)\" x2=\"0\" y2=\"-39.11949166666665\" style=\"fill: none; stroke: black;\"></line><line transform=\"translate(31.500000000000014,177.33886666666666)\" x2=\"0\" y2=\"-36.851333333333315\" style=\"fill: none; stroke: black;\"></line><line transform=\"translate(52.500000000000014,179.73143333333334)\" x2=\"0\" y2=\"-32.804437500000006\" style=\"fill: none; stroke: black;\"></line><line transform=\"translate(73.50000000000001,182.04778333333334)\" x2=\"0\" y2=\"-29.37403333333333\" style=\"fill: none; stroke: black;\"></line><line transform=\"translate(94.50000000000001,183.26931666666667)\" x2=\"0\" y2=\"-30.508391666666682\" style=\"fill: none; stroke: black;\"></line><line transform=\"translate(115.50000000000001,186.6753)\" x2=\"0\" y2=\"-26.651279166666654\" style=\"fill: none; stroke: black;\"></line><line transform=\"translate(136.5,189.3394)\" x2=\"0\" y2=\"-22.308129166666674\" style=\"fill: none; stroke: black;\"></line><line transform=\"translate(157.5,191.58313333333334)\" x2=\"0\" y2=\"-20.625020833333338\" style=\"fill: none; stroke: black;\"></line><line transform=\"translate(178.5,192.86358333333334)\" x2=\"0\" y2=\"-16.710633333333334\" style=\"fill: none; stroke: black;\"></line><line transform=\"translate(199.5,194.31243333333333)\" x2=\"0\" y2=\"-14.503866666666653\" style=\"fill: none; stroke: black;\"></line><line transform=\"translate(220.5,195.22366666666667)\" x2=\"0\" y2=\"-13.162970833333333\" style=\"fill: none; stroke: black;\"></line><line transform=\"translate(241.5,196.87986666666666)\" x2=\"0\" y2=\"-9.805170833333335\" style=\"fill: none; stroke: black;\"></line><line transform=\"translate(262.5,197.29606666666666)\" x2=\"0\" y2=\"-8.247741666666656\" style=\"fill: none; stroke: black;\"></line><line transform=\"translate(283.5,198.2411)\" x2=\"0\" y2=\"-5.526124999999979\" style=\"fill: none; stroke: black;\"></line><line transform=\"translate(304.5,198.80396666666667)\" x2=\"0\" y2=\"-3.830104166666672\" style=\"fill: none; stroke: black;\"></line><line transform=\"translate(325.5,199.32951666666668)\" x2=\"0\" y2=\"-2.2312583333333578\" style=\"fill: none; stroke: black;\"></line><line transform=\"translate(346.5,199.61751666666666)\" x2=\"0\" y2=\"-1.1146208333333334\" style=\"fill: none; stroke: black;\"></line><line transform=\"translate(367.5,199.86356666666666)\" x2=\"0\" y2=\"-0.43727083333331507\" style=\"fill: none; stroke: black;\"></line><line transform=\"translate(388.5,199.91235)\" x2=\"0\" y2=\"-0.1662791666666692\" style=\"fill: none; stroke: black;\"></line></g><g class=\"mark-rect role-mark layer_1_marks\"><path d=\"M8.000000000000012,59.81256250000001h5v76.8950125h-5Z\" style=\"fill: #4c78a8;\"></path><path d=\"M29.000000000000014,53.830854166666654h5v86.65667916666669h-5Z\" style=\"fill: #4c78a8;\"></path><path d=\"M50.000000000000014,58.21506666666667h5v88.71192916666666h-5Z\" style=\"fill: #4c78a8;\"></path><path d=\"M71.00000000000001,65.02552083333333h5v87.64822916666668h-5Z\" style=\"fill: #4c78a8;\"></path><path d=\"M92.00000000000001,78.81830000000001h5v73.94262499999998h-5Z\" style=\"fill: #4c78a8;\"></path><path d=\"M113.00000000000001,91.93652083333332h5v68.08750000000002h-5Z\" style=\"fill: #4c78a8;\"></path><path d=\"M134,101.92927083333333h5v65.102h-5Z\" style=\"fill: #4c78a8;\"></path><path d=\"M155,100.42829166666667h5v70.52982083333333h-5Z\" style=\"fill: #4c78a8;\"></path><path d=\"M176,104.80099166666666h5v71.35195833333334h-5Z\" style=\"fill: #4c78a8;\"></path><path d=\"M197,108.776075h5v71.03249166666667h-5Z\" style=\"fill: #4c78a8;\"></path><path d=\"M218,113.23425h5v68.82644583333334h-5Z\" style=\"fill: #4c78a8;\"></path><path d=\"M239,122.1182875h5v64.95640833333333h-5Z\" style=\"fill: #4c78a8;\"></path><path d=\"M260,134.01346666666666h5v55.03485833333335h-5Z\" style=\"fill: #4c78a8;\"></path><path d=\"M281,146.04707083333335h5v46.66790416666666h-5Z\" style=\"fill: #4c78a8;\"></path><path d=\"M302,158.79057083333333h5v36.18329166666666h-5Z\" style=\"fill: #4c78a8;\"></path><path d=\"M323,172.81924166666667h5v24.27901666666665h-5Z\" style=\"fill: #4c78a8;\"></path><path d=\"M344,185.35242916666667h5v13.15046666666666h-5Z\" style=\"fill: #4c78a8;\"></path><path d=\"M365,193.64650416666666h5v5.779791666666682h-5Z\" style=\"fill: #4c78a8;\"></path><path d=\"M386,197.103h5v2.6430708333333257h-5Z\" style=\"fill: #4c78a8;\"></path></g><g class=\"mark-rule role-mark layer_2_marks\"><line transform=\"translate(10.500000000000012,27.08375000000001)\" x2=\"0\" y2=\"32.728812500000004\" style=\"fill: none; stroke: black;\"></line><line transform=\"translate(31.500000000000014,24.130899999999997)\" x2=\"0\" y2=\"29.699954166666657\" style=\"fill: none; stroke: black;\"></line><line transform=\"translate(52.500000000000014,20.726616666666672)\" x2=\"0\" y2=\"37.48845\" style=\"fill: none; stroke: black;\"></line><line transform=\"translate(73.50000000000001,21.68573333333333)\" x2=\"0\" y2=\"43.3397875\" style=\"fill: none; stroke: black;\"></line><line transform=\"translate(94.50000000000001,23.084216666666663)\" x2=\"0\" y2=\"55.734083333333345\" style=\"fill: none; stroke: black;\"></line><line transform=\"translate(115.50000000000001,22.366216666666674)\" x2=\"0\" y2=\"69.57030416666665\" style=\"fill: none; stroke: black;\"></line><line transform=\"translate(136.5,14.904166666666669)\" x2=\"0\" y2=\"87.02510416666667\" style=\"fill: none; stroke: black;\"></line><line transform=\"translate(157.5,6.072550000000007)\" x2=\"0\" y2=\"94.35574166666666\" style=\"fill: none; stroke: black;\"></line><line transform=\"translate(178.5,8.523699999999991)\" x2=\"0\" y2=\"96.27729166666667\" style=\"fill: none; stroke: black;\"></line><line transform=\"translate(199.5,28.97911666666667)\" x2=\"0\" y2=\"79.79695833333334\" style=\"fill: none; stroke: black;\"></line><line transform=\"translate(220.5,51.48111666666665)\" x2=\"0\" y2=\"61.75313333333335\" style=\"fill: none; stroke: black;\"></line><line transform=\"translate(241.5,84.64553333333333)\" x2=\"0\" y2=\"37.47275416666666\" style=\"fill: none; stroke: black;\"></line><line transform=\"translate(262.5,105.51731666666667)\" x2=\"0\" y2=\"28.496149999999986\" style=\"fill: none; stroke: black;\"></line><line transform=\"translate(283.5,106.76486666666666)\" x2=\"0\" y2=\"39.28220416666669\" style=\"fill: none; stroke: black;\"></line><line transform=\"translate(304.5,113.58574999999999)\" x2=\"0\" y2=\"45.20482083333334\" style=\"fill: none; stroke: black;\"></line><line transform=\"translate(325.5,127.40593333333334)\" x2=\"0\" y2=\"45.41330833333333\" style=\"fill: none; stroke: black;\"></line><line transform=\"translate(346.5,146.3017)\" x2=\"0\" y2=\"39.050729166666656\" style=\"fill: none; stroke: black;\"></line><line transform=\"translate(367.5,166.98073333333332)\" x2=\"0\" y2=\"26.66577083333334\" style=\"fill: none; stroke: black;\"></line><line transform=\"translate(388.5,182.25698333333332)\" x2=\"0\" y2=\"14.846016666666685\" style=\"fill: none; stroke: black;\"></line></g><g class=\"mark-rect role-mark layer_3_marks\"><path d=\"M8.000000000000012,104.86021666666666h5v1h-5Z\" style=\"fill: white;\"></path><path d=\"M29.000000000000014,103.8086h5v1h-5Z\" style=\"fill: white;\"></path><path d=\"M50.000000000000014,107.32850833333333h5v1h-5Z\" style=\"fill: white;\"></path><path d=\"M71.00000000000001,111.55940833333334h5v1h-5Z\" style=\"fill: white;\"></path><path d=\"M92.00000000000001,111.3802h5v1h-5Z\" style=\"fill: white;\"></path><path d=\"M113.00000000000001,116.33265h5v1h-5Z\" style=\"fill: white;\"></path><path d=\"M134,125.50315833333333h5v1h-5Z\" style=\"fill: white;\"></path><path d=\"M155,123.080775h5v1h-5Z\" style=\"fill: white;\"></path><path d=\"M176,134.25699166666666h5v1h-5Z\" style=\"fill: white;\"></path><path d=\"M197,140.91908333333333h5v1h-5Z\" style=\"fill: white;\"></path><path d=\"M218,150.02250833333335h5v1h-5Z\" style=\"fill: white;\"></path><path d=\"M239,160.06090833333334h5v1h-5Z\" style=\"fill: white;\"></path><path d=\"M260,168.57434166666667h5v1h-5Z\" style=\"fill: white;\"></path><path d=\"M281,176.961775h5v1h-5Z\" style=\"fill: white;\"></path><path d=\"M302,184.18705h5v1h-5Z\" style=\"fill: white;\"></path><path d=\"M323,190.67424166666666h5v1h-5Z\" style=\"fill: white;\"></path><path d=\"M344,195.08094166666666h5v1h-5Z\" style=\"fill: white;\"></path><path d=\"M365,197.81634166666666h5v1h-5Z\" style=\"fill: white;\"></path><path d=\"M386,198.88043333333334h5v1h-5Z\" style=\"fill: white;\"></path></g><g class=\"mark-group role-axis\"><g transform=\"translate(0.5,200.5)\"><path class=\"background\" d=\"M0,0h0v0h0Z\" style=\"pointer-events: none; fill: none;\"></path><g><g class=\"mark-rule role-axis-tick\" style=\"pointer-events: none;\"><line transform=\"translate(10,0)\" x2=\"0\" y2=\"5\" style=\"fill: none; stroke: #888; stroke-width: 1; opacity: 1;\"></line><line transform=\"translate(31,0)\" x2=\"0\" y2=\"5\" style=\"fill: none; stroke: #888; stroke-width: 1; opacity: 1;\"></line><line transform=\"translate(52,0)\" x2=\"0\" y2=\"5\" style=\"fill: none; stroke: #888; stroke-width: 1; opacity: 1;\"></line><line transform=\"translate(73,0)\" x2=\"0\" y2=\"5\" style=\"fill: none; stroke: #888; stroke-width: 1; opacity: 1;\"></line><line transform=\"translate(94,0)\" x2=\"0\" y2=\"5\" style=\"fill: none; stroke: #888; stroke-width: 1; opacity: 1;\"></line><line transform=\"translate(115,0)\" x2=\"0\" y2=\"5\" style=\"fill: none; stroke: #888; stroke-width: 1; opacity: 1;\"></line><line transform=\"translate(136,0)\" x2=\"0\" y2=\"5\" style=\"fill: none; stroke: #888; stroke-width: 1; opacity: 1;\"></line><line transform=\"translate(157,0)\" x2=\"0\" y2=\"5\" style=\"fill: none; stroke: #888; stroke-width: 1; opacity: 1;\"></line><line transform=\"translate(178,0)\" x2=\"0\" y2=\"5\" style=\"fill: none; stroke: #888; stroke-width: 1; opacity: 1;\"></line><line transform=\"translate(199,0)\" x2=\"0\" y2=\"5\" style=\"fill: none; stroke: #888; stroke-width: 1; opacity: 1;\"></line><line transform=\"translate(220,0)\" x2=\"0\" y2=\"5\" style=\"fill: none; stroke: #888; stroke-width: 1; opacity: 1;\"></line><line transform=\"translate(241,0)\" x2=\"0\" y2=\"5\" style=\"fill: none; stroke: #888; stroke-width: 1; opacity: 1;\"></line><line transform=\"translate(262,0)\" x2=\"0\" y2=\"5\" style=\"fill: none; stroke: #888; stroke-width: 1; opacity: 1;\"></line><line transform=\"translate(283,0)\" x2=\"0\" y2=\"5\" style=\"fill: none; stroke: #888; stroke-width: 1; opacity: 1;\"></line><line transform=\"translate(304,0)\" x2=\"0\" y2=\"5\" style=\"fill: none; stroke: #888; stroke-width: 1; opacity: 1;\"></line><line transform=\"translate(325,0)\" x2=\"0\" y2=\"5\" style=\"fill: none; stroke: #888; stroke-width: 1; opacity: 1;\"></line><line transform=\"translate(346,0)\" x2=\"0\" y2=\"5\" style=\"fill: none; stroke: #888; stroke-width: 1; opacity: 1;\"></line><line transform=\"translate(367,0)\" x2=\"0\" y2=\"5\" style=\"fill: none; stroke: #888; stroke-width: 1; opacity: 1;\"></line><line transform=\"translate(388,0)\" x2=\"0\" y2=\"5\" style=\"fill: none; stroke: #888; stroke-width: 1; opacity: 1;\"></line></g><g class=\"mark-text role-axis-label\" style=\"pointer-events: none;\"><text text-anchor=\"end\" transform=\"translate(9.500000000000012,7) rotate(270) translate(0,3)\" style=\"font: 10px sans-serif; fill: #000; opacity: 1;\">0</text><text text-anchor=\"end\" transform=\"translate(30.500000000000014,7) rotate(270) translate(0,3)\" style=\"font: 10px sans-serif; fill: #000; opacity: 1;\">5</text><text text-anchor=\"end\" transform=\"translate(51.500000000000014,7) rotate(270) translate(0,3)\" style=\"font: 10px sans-serif; fill: #000; opacity: 1;\">10</text><text text-anchor=\"end\" transform=\"translate(72.50000000000001,7) rotate(270) translate(0,3)\" style=\"font: 10px sans-serif; fill: #000; opacity: 1;\">15</text><text text-anchor=\"end\" transform=\"translate(93.50000000000001,7) rotate(270) translate(0,3)\" style=\"font: 10px sans-serif; fill: #000; opacity: 1;\">20</text><text text-anchor=\"end\" transform=\"translate(114.50000000000001,7) rotate(270) translate(0,3)\" style=\"font: 10px sans-serif; fill: #000; opacity: 1;\">25</text><text text-anchor=\"end\" transform=\"translate(135.5,7) rotate(270) translate(0,3)\" style=\"font: 10px sans-serif; fill: #000; opacity: 1;\">30</text><text text-anchor=\"end\" transform=\"translate(156.5,7) rotate(270) translate(0,3)\" style=\"font: 10px sans-serif; fill: #000; opacity: 1;\">35</text><text text-anchor=\"end\" transform=\"translate(177.5,7) rotate(270) translate(0,3)\" style=\"font: 10px sans-serif; fill: #000; opacity: 1;\">40</text><text text-anchor=\"end\" transform=\"translate(198.5,7) rotate(270) translate(0,3)\" style=\"font: 10px sans-serif; fill: #000; opacity: 1;\">45</text><text text-anchor=\"end\" transform=\"translate(219.5,7) rotate(270) translate(0,3)\" style=\"font: 10px sans-serif; fill: #000; opacity: 1;\">50</text><text text-anchor=\"end\" transform=\"translate(240.5,7) rotate(270) translate(0,3)\" style=\"font: 10px sans-serif; fill: #000; opacity: 1;\">55</text><text text-anchor=\"end\" transform=\"translate(261.5,7) rotate(270) translate(0,3)\" style=\"font: 10px sans-serif; fill: #000; opacity: 1;\">60</text><text text-anchor=\"end\" transform=\"translate(282.5,7) rotate(270) translate(0,3)\" style=\"font: 10px sans-serif; fill: #000; opacity: 1;\">65</text><text text-anchor=\"end\" transform=\"translate(303.5,7) rotate(270) translate(0,3)\" style=\"font: 10px sans-serif; fill: #000; opacity: 1;\">70</text><text text-anchor=\"end\" transform=\"translate(324.5,7) rotate(270) translate(0,3)\" style=\"font: 10px sans-serif; fill: #000; opacity: 1;\">75</text><text text-anchor=\"end\" transform=\"translate(345.5,7) rotate(270) translate(0,3)\" style=\"font: 10px sans-serif; fill: #000; opacity: 1;\">80</text><text text-anchor=\"end\" transform=\"translate(366.5,7) rotate(270) translate(0,3)\" style=\"font: 10px sans-serif; fill: #000; opacity: 1;\">85</text><text text-anchor=\"end\" transform=\"translate(387.5,7) rotate(270) translate(0,3)\" style=\"font: 10px sans-serif; fill: #000; opacity: 1;\">90</text></g><g class=\"mark-rule role-axis-domain\" style=\"pointer-events: none;\"><line transform=\"translate(0,0)\" x2=\"399\" y2=\"0\" style=\"fill: none; stroke: #888; stroke-width: 1; opacity: 1;\"></line></g><g class=\"mark-text role-axis-title\" style=\"pointer-events: none;\"><text text-anchor=\"middle\" transform=\"translate(199.5,37)\" style=\"font: bold 11px sans-serif; fill: #000; opacity: 1;\">age</text></g></g></g></g><g class=\"mark-group role-axis\"><g transform=\"translate(0.5,0.5)\"><path class=\"background\" d=\"M0,0h0v0h0Z\" style=\"pointer-events: none; fill: none;\"></path><g><g class=\"mark-rule role-axis-tick\" style=\"pointer-events: none;\"><line transform=\"translate(0,200)\" x2=\"-5\" y2=\"0\" style=\"fill: none; stroke: #888; stroke-width: 1; opacity: 1;\"></line><line transform=\"translate(0,167)\" x2=\"-5\" y2=\"0\" style=\"fill: none; stroke: #888; stroke-width: 1; opacity: 1;\"></line><line transform=\"translate(0,133)\" x2=\"-5\" y2=\"0\" style=\"fill: none; stroke: #888; stroke-width: 1; opacity: 1;\"></line><line transform=\"translate(0,100)\" x2=\"-5\" y2=\"0\" style=\"fill: none; stroke: #888; stroke-width: 1; opacity: 1;\"></line><line transform=\"translate(0,67)\" x2=\"-5\" y2=\"0\" style=\"fill: none; stroke: #888; stroke-width: 1; opacity: 1;\"></line><line transform=\"translate(0,33)\" x2=\"-5\" y2=\"0\" style=\"fill: none; stroke: #888; stroke-width: 1; opacity: 1;\"></line><line transform=\"translate(0,0)\" x2=\"-5\" y2=\"0\" style=\"fill: none; stroke: #888; stroke-width: 1; opacity: 1;\"></line></g><g class=\"mark-text role-axis-label\" style=\"pointer-events: none;\"><text text-anchor=\"end\" transform=\"translate(-7,203)\" style=\"font: 10px sans-serif; fill: #000; opacity: 1;\">0</text><text text-anchor=\"end\" transform=\"translate(-7,169.66666666666669)\" style=\"font: 10px sans-serif; fill: #000; opacity: 1;\">2,000,000</text><text text-anchor=\"end\" transform=\"translate(-7,136.33333333333334)\" style=\"font: 10px sans-serif; fill: #000; opacity: 1;\">4,000,000</text><text text-anchor=\"end\" transform=\"translate(-7,103)\" style=\"font: 10px sans-serif; fill: #000; opacity: 1;\">6,000,000</text><text text-anchor=\"end\" transform=\"translate(-7,69.66666666666669)\" style=\"font: 10px sans-serif; fill: #000; opacity: 1;\">8,000,000</text><text text-anchor=\"end\" transform=\"translate(-7,36.333333333333314)\" style=\"font: 10px sans-serif; fill: #000; opacity: 1;\">10,000,000</text><text text-anchor=\"end\" transform=\"translate(-7,3)\" style=\"font: 10px sans-serif; fill: #000; opacity: 1;\">12,000,000</text></g><g class=\"mark-rule role-axis-domain\" style=\"pointer-events: none;\"><line transform=\"translate(0,200)\" x2=\"0\" y2=\"-200\" style=\"fill: none; stroke: #888; stroke-width: 1; opacity: 1;\"></line></g><g class=\"mark-text role-axis-title\" style=\"pointer-events: none;\"><text text-anchor=\"middle\" transform=\"translate(-92,100) rotate(-90) translate(0,-2)\" style=\"font: bold 11px sans-serif; fill: #000; opacity: 1;\">population</text></g></g></g></g></g></g></g></g></svg>"
      ],
      "text/plain": [
       "VegaLite.VLSpec{:plot}(Dict{String,Any}(Pair{String,Any}(\"layer\", Any[Dict{Symbol,Any}(Pair{Symbol,Any}(:encoding, Dict{Symbol,Any}(Pair{Symbol,Any}(:y, Dict{Symbol,Any}(Pair{Symbol,Any}(:aggregate, :min),Pair{Symbol,Any}(:field, \"people\"),Pair{Symbol,Any}(:type, :quantitative),Pair{Symbol,Any}(:axis, Dict{Symbol,Any}(Pair{Symbol,Any}(:title, \"population\"))))),Pair{Symbol,Any}(:y2, Dict{Symbol,Any}(Pair{Symbol,Any}(:aggregate, :q1),Pair{Symbol,Any}(:field, \"people\"),Pair{Symbol,Any}(:type, :quantitative))),Pair{Symbol,Any}(:x, Dict{Symbol,Any}(Pair{Symbol,Any}(:field, \"age\"),Pair{Symbol,Any}(:type, :ordinal))))),Pair{Symbol,Any}(:mark, :rule)), Dict{Symbol,Any}(Pair{Symbol,Any}(:encoding, Dict{Symbol,Any}(Pair{Symbol,Any}(:y, Dict{Symbol,Any}(Pair{Symbol,Any}(:aggregate, :q1),Pair{Symbol,Any}(:field, \"people\"),Pair{Symbol,Any}(:type, :quantitative))),Pair{Symbol,Any}(:y2, Dict{Symbol,Any}(Pair{Symbol,Any}(:aggregate, :q3),Pair{Symbol,Any}(:field, \"people\"),Pair{Symbol,Any}(:type, :quantitative))),Pair{Symbol,Any}(:x, Dict{Symbol,Any}(Pair{Symbol,Any}(:field, \"age\"),Pair{Symbol,Any}(:type, :ordinal))))),Pair{Symbol,Any}(:mark, Dict{Symbol,Any}(Pair{Symbol,Any}(:type, :bar),Pair{Symbol,Any}(:size, 5.0)))), Dict{Symbol,Any}(Pair{Symbol,Any}(:encoding, Dict{Symbol,Any}(Pair{Symbol,Any}(:y, Dict{Symbol,Any}(Pair{Symbol,Any}(:aggregate, :max),Pair{Symbol,Any}(:field, \"people\"),Pair{Symbol,Any}(:type, :quantitative))),Pair{Symbol,Any}(:y2, Dict{Symbol,Any}(Pair{Symbol,Any}(:aggregate, :q3),Pair{Symbol,Any}(:field, \"people\"),Pair{Symbol,Any}(:type, :quantitative))),Pair{Symbol,Any}(:x, Dict{Symbol,Any}(Pair{Symbol,Any}(:field, \"age\"),Pair{Symbol,Any}(:type, :ordinal))))),Pair{Symbol,Any}(:mark, :rule)), Dict{Symbol,Any}(Pair{Symbol,Any}(:encoding, Dict{Symbol,Any}(Pair{Symbol,Any}(:y, Dict{Symbol,Any}(Pair{Symbol,Any}(:aggregate, :median),Pair{Symbol,Any}(:field, \"people\"),Pair{Symbol,Any}(:type, :quantitative))),Pair{Symbol,Any}(:x, Dict{Symbol,Any}(Pair{Symbol,Any}(:field, \"age\"),Pair{Symbol,Any}(:type, :ordinal))))),Pair{Symbol,Any}(:mark, Dict{Symbol,Any}(Pair{Symbol,Any}(:color, :white),Pair{Symbol,Any}(:type, :tick),Pair{Symbol,Any}(:size, 5.0))))]),Pair{String,Any}(\"data\", Dict(\"values\"=>Dict{Symbol,Int64}[Dict(:year=>1850,:sex=>1,:age=>0,:people=>1483789), Dict(:year=>1850,:sex=>2,:age=>0,:people=>1450376), Dict(:year=>1850,:sex=>1,:age=>5,:people=>1411067), Dict(:year=>1850,:sex=>2,:age=>5,:people=>1359668), Dict(:year=>1850,:sex=>1,:age=>10,:people=>1260099), Dict(:year=>1850,:sex=>2,:age=>10,:people=>1216114), Dict(:year=>1850,:sex=>1,:age=>15,:people=>1077133), Dict(:year=>1850,:sex=>2,:age=>15,:people=>1110619), Dict(:year=>1850,:sex=>1,:age=>20,:people=>1017281), Dict(:year=>1850,:sex=>2,:age=>20,:people=>1003841)  …  Dict(:year=>2000,:sex=>1,:age=>70,:people=>3792145), Dict(:year=>2000,:sex=>2,:age=>70,:people=>5184855), Dict(:year=>2000,:sex=>1,:age=>75,:people=>2912655), Dict(:year=>2000,:sex=>2,:age=>75,:people=>4355644), Dict(:year=>2000,:sex=>1,:age=>80,:people=>1902638), Dict(:year=>2000,:sex=>2,:age=>80,:people=>3221898), Dict(:year=>2000,:sex=>1,:age=>85,:people=>970357), Dict(:year=>2000,:sex=>2,:age=>85,:people=>1981156), Dict(:year=>2000,:sex=>1,:age=>90,:people=>336303), Dict(:year=>2000,:sex=>2,:age=>90,:people=>1064581)]))))"
      ]
     },
     "execution_count": 4,
     "metadata": {},
     "output_type": "execute_result"
    }
   ],
   "source": [
    "# Define aggregate fields\n",
    "lower_box = \"q1(people):Q\"\n",
    "lower_whisker = \"min(people):Q\"\n",
    "upper_box = \"q3(people):Q\"\n",
    "upper_whisker = \"max(people):Q\"\n",
    "\n",
    "dataset(\"population\") |>\n",
    "@vlplot() +\n",
    "@vlplot(:rule,enc={\n",
    "    y={lower_whisker,axis={title=\"population\"}},\n",
    "    y2=lower_box,\n",
    "    x=\"age:o\"}) +\n",
    "@vlplot(mark={:bar,size=5.},enc={\n",
    "    y=lower_box,y2=upper_box,x=\"age:o\"\n",
    "    }) +\n",
    "@vlplot(:rule,enc={y=upper_whisker,y2=upper_box,x=\"age:o\"}) +\n",
    "@vlplot(mark={:tick,color=:white,size=5.},enc={y=\"median(people):q\",x=\"age:o\"})"
   ]
  }
 ],
 "metadata": {
  "kernelspec": {
   "display_name": "Julia 0.6.2",
   "language": "julia",
   "name": "julia-0.6"
  },
  "language_info": {
   "file_extension": ".jl",
   "mimetype": "application/julia",
   "name": "julia",
   "version": "0.6.2"
  }
 },
 "nbformat": 4,
 "nbformat_minor": 2
}
